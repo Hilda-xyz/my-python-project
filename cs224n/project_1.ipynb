{
 "cells": [
  {
   "cell_type": "markdown",
   "metadata": {
    "id": "3HqK14JLSStR"
   },
   "source": [
    "# CS224N Assignment 1: Exploring Word Vectors (25 Points)\n",
    "### <font color='blue'> Due 4:30pm, Tue January 14th 2025</font>\n",
    "\n",
    "Welcome to CS224N! \n",
    "\n",
    "Before you start, make sure you **read the README.md** in the same directory as this notebook for important setup information. You need to install some Python libraries before you can successfully do this assignment. A lot of code is provided in this notebook, and we highly encourage you to read and understand it as part of the learning :)\n",
    "\n",
    "If you aren't super familiar with Python, Numpy, or Matplotlib, we recommend you check out the review session on Friday. The session will be recorded and the material will be made available on our [website](http://web.stanford.edu/class/cs224n/index.html#schedule). The CS231N Python/Numpy [tutorial](https://cs231n.github.io/python-numpy-tutorial/) is also a great resource.\n",
    "\n",
    "\n",
    "**Assignment Notes:** Please make sure to save the notebook as you go along. Submission Instructions are located at the bottom of the notebook."
   ]
  },
  {
   "cell_type": "code",
   "execution_count": 3,
   "metadata": {
    "ExecuteTime": {
     "end_time": "2024-03-27T08:04:19.343709Z",
     "start_time": "2024-03-27T08:04:15.222676Z"
    },
    "colab": {
     "base_uri": "https://localhost:8080/"
    },
    "id": "8AGQxROrSStf",
    "outputId": "45390a52-8c82-466d-dcf3-d5b355f14aa4"
   },
   "outputs": [
    {
     "data": {
      "application/vnd.jupyter.widget-view+json": {
       "model_id": "b56a9874b7a34ba9aa5bc4a57e394949",
       "version_major": 2,
       "version_minor": 0
      },
      "text/plain": [
       "README.md: 0.00B [00:00, ?B/s]"
      ]
     },
     "metadata": {},
     "output_type": "display_data"
    },
    {
     "data": {
      "application/vnd.jupyter.widget-view+json": {
       "model_id": "e4e6475c070a4accbeeb9744d6d462c2",
       "version_major": 2,
       "version_minor": 0
      },
      "text/plain": [
       "plain_text/train-00000-of-00001.parquet:   0%|          | 0.00/21.0M [00:00<?, ?B/s]"
      ]
     },
     "metadata": {},
     "output_type": "display_data"
    },
    {
     "data": {
      "application/vnd.jupyter.widget-view+json": {
       "model_id": "342a883425dd484ea1f8e4f91fcf74e1",
       "version_major": 2,
       "version_minor": 0
      },
      "text/plain": [
       "plain_text/test-00000-of-00001.parquet:   0%|          | 0.00/20.5M [00:00<?, ?B/s]"
      ]
     },
     "metadata": {},
     "output_type": "display_data"
    },
    {
     "data": {
      "application/vnd.jupyter.widget-view+json": {
       "model_id": "549d070dd95f490290c4d41f70efa11f",
       "version_major": 2,
       "version_minor": 0
      },
      "text/plain": [
       "plain_text/unsupervised-00000-of-00001.p(…):   0%|          | 0.00/42.0M [00:00<?, ?B/s]"
      ]
     },
     "metadata": {},
     "output_type": "display_data"
    },
    {
     "data": {
      "application/vnd.jupyter.widget-view+json": {
       "model_id": "3eee096ffd1f48929dfcb633b73552ab",
       "version_major": 2,
       "version_minor": 0
      },
      "text/plain": [
       "Generating train split:   0%|          | 0/25000 [00:00<?, ? examples/s]"
      ]
     },
     "metadata": {},
     "output_type": "display_data"
    },
    {
     "data": {
      "application/vnd.jupyter.widget-view+json": {
       "model_id": "3b0518db2b6d48d685c5932a70f10fb1",
       "version_major": 2,
       "version_minor": 0
      },
      "text/plain": [
       "Generating test split:   0%|          | 0/25000 [00:00<?, ? examples/s]"
      ]
     },
     "metadata": {},
     "output_type": "display_data"
    },
    {
     "data": {
      "application/vnd.jupyter.widget-view+json": {
       "model_id": "ecd12cea833e4cdcacc51d5a1ed51a58",
       "version_major": 2,
       "version_minor": 0
      },
      "text/plain": [
       "Generating unsupervised split:   0%|          | 0/50000 [00:00<?, ? examples/s]"
      ]
     },
     "metadata": {},
     "output_type": "display_data"
    }
   ],
   "source": [
    "# All Import Statements Defined Here\n",
    "# Note: Do not add to this list.\n",
    "# ----------------\n",
    "\n",
    "import sys\n",
    "assert sys.version_info[0] == 3\n",
    "assert sys.version_info[1] >= 8\n",
    "\n",
    "from platform import python_version\n",
    "assert int(python_version().split(\".\")[1]) >= 5, \"Please upgrade your Python version following the instructions in \\\n",
    "    the README.md file found in the same directory as this notebook. Your Python version is \" + python_version()\n",
    "\n",
    "from gensim.models import KeyedVectors\n",
    "from gensim.test.utils import datapath\n",
    "import pprint\n",
    "import matplotlib.pyplot as plt\n",
    "plt.rcParams['figure.figsize'] = [10, 5]\n",
    "\n",
    "from datasets import load_dataset\n",
    "imdb_dataset = load_dataset(\"stanfordnlp/imdb\", name=\"plain_text\")\n",
    "\n",
    "import re\n",
    "import numpy as np\n",
    "import random\n",
    "import scipy as sp\n",
    "from sklearn.decomposition import TruncatedSVD\n",
    "from sklearn.decomposition import PCA\n",
    "\n",
    "START_TOKEN = '<START>'\n",
    "END_TOKEN = '<END>'\n",
    "NUM_SAMPLES = 150\n",
    "\n",
    "np.random.seed(0)\n",
    "random.seed(0)\n",
    "# ----------------"
   ]
  },
  {
   "cell_type": "markdown",
   "metadata": {
    "id": "SICd5IedSSto"
   },
   "source": [
    "## Word Vectors\n",
    "\n",
    "Word Vectors are often used as a fundamental component for downstream NLP tasks, e.g. question answering, text generation, translation, etc., so it is important to build some intuitions as to their strengths and weaknesses. Here, you will explore two types of word vectors: those derived from *co-occurrence matrices*, and those derived via *GloVe*. \n",
    "\n",
    "**Note on Terminology:** The terms \"word vectors\" and \"word embeddings\" are often used interchangeably. The term \"embedding\" refers to the fact that we are encoding aspects of a word's meaning in a lower dimensional space. As [Wikipedia](https://en.wikipedia.org/wiki/Word_embedding) states, \"*conceptually it involves a mathematical embedding from a space with one dimension per word to a continuous vector space with a much lower dimension*\"."
   ]
  },
  {
   "cell_type": "markdown",
   "metadata": {
    "id": "6Eug6AVrSStr"
   },
   "source": [
    "## Part 1: Count-Based Word Vectors (10 points) 基于计数的共现矩阵并降维得到向量（Count-based 方法）\n",
    "\n",
    "Most word vector models start from the following idea:\n",
    "\n",
    "*You shall know a word by the company it keeps ([Firth, J. R. 1957:11](https://en.wikipedia.org/wiki/John_Rupert_Firth))*\n",
    "\n",
    "Many word vector implementations are driven by the idea that similar words, i.e., (near) synonyms, will be used in similar contexts. As a result, similar words will often be spoken or written along with a shared subset of words, i.e., contexts. By examining these contexts, we can try to develop embeddings for our words. With this intuition in mind, many \"old school\" approaches to constructing word vectors relied on word counts. Here we elaborate upon one of those strategies, *co-occurrence matrices* (for more information, see [here](https://web.stanford.edu/~jurafsky/slp3/6.pdf) or [here](https://web.archive.org/web/20190530091127/https://medium.com/data-science-group-iitr/word-embedding-2d05d270b285))."
   ]
  },
  {
   "cell_type": "markdown",
   "metadata": {
    "id": "L6uQ9-DVSSts"
   },
   "source": [
    "### Co-Occurrence\n",
    "\n",
    "A co-occurrence matrix counts how often things co-occur in some environment. Given some word $w_i$ occurring in the document, we consider the *context window* surrounding $w_i$. Supposing our fixed window size is $n$, then this is the $n$ preceding and $n$ subsequent words in that document, i.e. words $w_{i-n} \\dots w_{i-1}$ and $w_{i+1} \\dots w_{i+n}$. We build a *co-occurrence matrix* $M$, which is a symmetric word-by-word matrix in which $M_{ij}$ is the number of times $w_j$ appears inside $w_i$'s window among all documents.\n",
    "\n",
    "**Example: Co-Occurrence with Fixed Window of n=1**:\n",
    "\n",
    "Document 1: \"all that glitters is not gold\"\n",
    "\n",
    "Document 2: \"all is well that ends well\"\n",
    "\n",
    "\n",
    "|     *    | `<START>` | all | that | glitters | is   | not  | gold  | well | ends | `<END>` |\n",
    "|----------|-------|-----|------|----------|------|------|-------|------|------|-----|\n",
    "| `<START>`    | 0     | 2   | 0    | 0        | 0    | 0    | 0     | 0    | 0    | 0   |\n",
    "| all      | 2     | 0   | 1    | 0        | 1    | 0    | 0     | 0    | 0    | 0   |\n",
    "| that     | 0     | 1   | 0    | 1        | 0    | 0    | 0     | 1    | 1    | 0   |\n",
    "| glitters | 0     | 0   | 1    | 0        | 1    | 0    | 0     | 0    | 0    | 0   |\n",
    "| is       | 0     | 1   | 0    | 1        | 0    | 1    | 0     | 1    | 0    | 0   |\n",
    "| not      | 0     | 0   | 0    | 0        | 1    | 0    | 1     | 0    | 0    | 0   |\n",
    "| gold     | 0     | 0   | 0    | 0        | 0    | 1    | 0     | 0    | 0    | 1   |\n",
    "| well     | 0     | 0   | 1    | 0        | 1    | 0    | 0     | 0    | 1    | 1   |\n",
    "| ends     | 0     | 0   | 1    | 0        | 0    | 0    | 0     | 1    | 0    | 0   |\n",
    "| `<END>`      | 0     | 0   | 0    | 0        | 0    | 0    | 1     | 1    | 0    | 0   |\n",
    "\n",
    "In NLP, we commonly use `<START>` and `<END>` tokens to mark the beginning and end of sentences, paragraphs, or documents. These tokens are included in co-occurrence counts, encapsulating each document, for example: \"`<START>` All that glitters is not gold `<END>`\".\n",
    "\n",
    "The matrix rows (or columns) provide word vectors based on word-word co-occurrence, but they can be large. To reduce dimensionality, we employ Singular Value Decomposition (SVD), akin to PCA, selecting the top $k$ principal components. The SVD process decomposes the co-occurrence matrix $A$ into singular values in the diagonal $S$ matrix and new, shorter word vectors in $U_k$.\n",
    "\n",
    "This dimensionality reduction maintains semantic relationships; for instance, *doctor* and *hospital* will be closer than *doctor* and *dog*.\n",
    "\n",
    "For those unfamiliar with eigenvalues and SVD, a beginner-friendly introduction to SVD is available [here](https://davetang.org/file/Singular_Value_Decomposition_Tutorial.pdf). Additional resources for in-depth understanding include lectures [7](https://web.stanford.edu/class/cs168/l/l7.pdf), [8](http://theory.stanford.edu/~tim/s15/l/l8.pdf), and [9](https://web.stanford.edu/class/cs168/l/l9.pdf) of CS168, providing high-level treatment of these algorithms. For practical implementation, utilizing pre-programmed functions from Python packages like numpy, scipy, or sklearn is recommended. While applying full SVD to large corpora can be memory-intensive, scalable techniques such as Truncated SVD exist for extracting the top $k$ vector components efficiently."
   ]
  },
  {
   "cell_type": "markdown",
   "metadata": {
    "id": "7IKeK4xtSStv"
   },
   "source": [
    "### Plotting Co-Occurrence Word Embeddings 数据读取 & 预处理（read_corpus）\n",
    "\n",
    "把 IMDb 文本读入，做简单的分词/小写/去标点，给每条评论加上 <START> / <END> 标记，得到一个 corpus（list of list of tokens）。这是后续构造共现矩阵的输入。\n",
    "\n",
    "Here, we will be using the Large Movie Review Dataset. This is a dataset for binary sentiment classification containing substantially more data than previous benchmark datasets. We provide a set of 25,000 highly polar movie reviews for training, and 25,000 for testing. There is additional unlabeled data for use as well. We provide a `read_corpus` function below that pulls out the text of a movie review from the dataset. The function also adds `<START>` and `<END>` tokens to each of the documents, and lowercases words. You do **not** have to perform any other kind of pre-processing."
   ]
  },
  {
   "cell_type": "code",
   "execution_count": null,
   "metadata": {
    "ExecuteTime": {
     "end_time": "2024-03-27T08:06:28.097673Z",
     "start_time": "2024-03-27T08:06:28.094138Z"
    },
    "id": "xwD2htUoSStw"
   },
   "outputs": [],
   "source": [
    "def read_corpus():\n",
    "    \"\"\" Read files from the Large Movie Review Dataset.\n",
    "        Params:\n",
    "            category (string): category name\n",
    "        Return:\n",
    "            list of lists, with words from each of the processed files\n",
    "    \"\"\"\n",
    "    files = imdb_dataset[\"train\"][\"text\"][:NUM_SAMPLES]\n",
    "    return [[START_TOKEN] + [re.sub(r'[^\\w]', '', w.lower()) for w in f.split(\" \")] + [END_TOKEN] for f in files]\n",
    "# 返回嵌套列表，每个子列表包含一个文件的所有单词；\n",
    "# 将文本按空格分割成单词列表，转小写，移除非字母数字字符；\n",
    "# 前后添加特殊标记；"
   ]
  },
  {
   "cell_type": "markdown",
   "metadata": {
    "id": "hVLquFhjSStx"
   },
   "source": [
    "Let's have a look what these documents are like…."
   ]
  },
  {
   "cell_type": "code",
   "execution_count": null,
   "metadata": {
    "ExecuteTime": {
     "end_time": "2024-03-27T08:06:29.881790Z",
     "start_time": "2024-03-27T08:06:29.404708Z"
    },
    "colab": {
     "base_uri": "https://localhost:8080/"
    },
    "id": "mC7B9Cb-SSty",
    "outputId": "a1861c4f-723a-4d99-98d9-5f5db3a92e7a"
   },
   "outputs": [
    {
     "name": "stdout",
     "output_type": "stream",
     "text": [
      "[['<START>', 'i', 'rented', 'i', 'am', 'curiousyellow', 'from', 'my', 'video', 'store', 'because',\n",
      "  'of', 'all', 'the', 'controversy', 'that', 'surrounded', 'it', 'when', 'it', 'was', 'first',\n",
      "  'released', 'in', '1967', 'i', 'also', 'heard', 'that', 'at', 'first', 'it', 'was', 'seized',\n",
      "  'by', 'us', 'customs', 'if', 'it', 'ever', 'tried', 'to', 'enter', 'this', 'country', 'therefore',\n",
      "  'being', 'a', 'fan', 'of', 'films', 'considered', 'controversial', 'i', 'really', 'had', 'to',\n",
      "  'see', 'this', 'for', 'myselfbr', 'br', 'the', 'plot', 'is', 'centered', 'around', 'a', 'young',\n",
      "  'swedish', 'drama', 'student', 'named', 'lena', 'who', 'wants', 'to', 'learn', 'everything',\n",
      "  'she', 'can', 'about', 'life', 'in', 'particular', 'she', 'wants', 'to', 'focus', 'her',\n",
      "  'attentions', 'to', 'making', 'some', 'sort', 'of', 'documentary', 'on', 'what', 'the', 'average',\n",
      "  'swede', 'thought', 'about', 'certain', 'political', 'issues', 'such', 'as', 'the', 'vietnam',\n",
      "  'war', 'and', 'race', 'issues', 'in', 'the', 'united', 'states', 'in', 'between', 'asking',\n",
      "  'politicians', 'and', 'ordinary', 'denizens', 'of', 'stockholm', 'about', 'their', 'opinions',\n",
      "  'on', 'politics', 'she', 'has', 'sex', 'with', 'her', 'drama', 'teacher', 'classmates', 'and',\n",
      "  'married', 'menbr', 'br', 'what', 'kills', 'me', 'about', 'i', 'am', 'curiousyellow', 'is',\n",
      "  'that', '40', 'years', 'ago', 'this', 'was', 'considered', 'pornographic', 'really', 'the', 'sex',\n",
      "  'and', 'nudity', 'scenes', 'are', 'few', 'and', 'far', 'between', 'even', 'then', 'its', 'not',\n",
      "  'shot', 'like', 'some', 'cheaply', 'made', 'porno', 'while', 'my', 'countrymen', 'mind', 'find',\n",
      "  'it', 'shocking', 'in', 'reality', 'sex', 'and', 'nudity', 'are', 'a', 'major', 'staple', 'in',\n",
      "  'swedish', 'cinema', 'even', 'ingmar', 'bergman', 'arguably', 'their', 'answer', 'to', 'good',\n",
      "  'old', 'boy', 'john', 'ford', 'had', 'sex', 'scenes', 'in', 'his', 'filmsbr', 'br', 'i', 'do',\n",
      "  'commend', 'the', 'filmmakers', 'for', 'the', 'fact', 'that', 'any', 'sex', 'shown', 'in', 'the',\n",
      "  'film', 'is', 'shown', 'for', 'artistic', 'purposes', 'rather', 'than', 'just', 'to', 'shock',\n",
      "  'people', 'and', 'make', 'money', 'to', 'be', 'shown', 'in', 'pornographic', 'theaters', 'in',\n",
      "  'america', 'i', 'am', 'curiousyellow', 'is', 'a', 'good', 'film', 'for', 'anyone', 'wanting',\n",
      "  'to', 'study', 'the', 'meat', 'and', 'potatoes', 'no', 'pun', 'intended', 'of', 'swedish',\n",
      "  'cinema', 'but', 'really', 'this', 'film', 'doesnt', 'have', 'much', 'of', 'a', 'plot', '<END>'],\n",
      " ['<START>', 'i', 'am', 'curious', 'yellow', 'is', 'a', 'risible', 'and', 'pretentious', 'steaming',\n",
      "  'pile', 'it', 'doesnt', 'matter', 'what', 'ones', 'political', 'views', 'are', 'because', 'this',\n",
      "  'film', 'can', 'hardly', 'be', 'taken', 'seriously', 'on', 'any', 'level', 'as', 'for', 'the',\n",
      "  'claim', 'that', 'frontal', 'male', 'nudity', 'is', 'an', 'automatic', 'nc17', 'that', 'isnt',\n",
      "  'true', 'ive', 'seen', 'rrated', 'films', 'with', 'male', 'nudity', 'granted', 'they', 'only',\n",
      "  'offer', 'some', 'fleeting', 'views', 'but', 'where', 'are', 'the', 'rrated', 'films', 'with',\n",
      "  'gaping', 'vulvas', 'and', 'flapping', 'labia', 'nowhere', 'because', 'they', 'dont', 'exist',\n",
      "  'the', 'same', 'goes', 'for', 'those', 'crappy', 'cable', 'shows', 'schlongs', 'swinging', 'in',\n",
      "  'the', 'breeze', 'but', 'not', 'a', 'clitoris', 'in', 'sight', 'and', 'those', 'pretentious',\n",
      "  'indie', 'movies', 'like', 'the', 'brown', 'bunny', 'in', 'which', 'were', 'treated', 'to', 'the',\n",
      "  'site', 'of', 'vincent', 'gallos', 'throbbing', 'johnson', 'but', 'not', 'a', 'trace', 'of',\n",
      "  'pink', 'visible', 'on', 'chloe', 'sevigny', 'before', 'crying', 'or', 'implying',\n",
      "  'doublestandard', 'in', 'matters', 'of', 'nudity', 'the', 'mentally', 'obtuse', 'should', 'take',\n",
      "  'into', 'account', 'one', 'unavoidably', 'obvious', 'anatomical', 'difference', 'between', 'men',\n",
      "  'and', 'women', 'there', 'are', 'no', 'genitals', 'on', 'display', 'when', 'actresses', 'appears',\n",
      "  'nude', 'and', 'the', 'same', 'cannot', 'be', 'said', 'for', 'a', 'man', 'in', 'fact', 'you',\n",
      "  'generally', 'wont', 'see', 'female', 'genitals', 'in', 'an', 'american', 'film', 'in',\n",
      "  'anything', 'short', 'of', 'porn', 'or', 'explicit', 'erotica', 'this', 'alleged',\n",
      "  'doublestandard', 'is', 'less', 'a', 'double', 'standard', 'than', 'an', 'admittedly',\n",
      "  'depressing', 'ability', 'to', 'come', 'to', 'terms', 'culturally', 'with', 'the', 'insides',\n",
      "  'of', 'womens', 'bodies', '<END>'],\n",
      " ['<START>', 'if', 'only', 'to', 'avoid', 'making', 'this', 'type', 'of', 'film', 'in', 'the',\n",
      "  'future', 'this', 'film', 'is', 'interesting', 'as', 'an', 'experiment', 'but', 'tells', 'no',\n",
      "  'cogent', 'storybr', 'br', 'one', 'might', 'feel', 'virtuous', 'for', 'sitting', 'thru', 'it',\n",
      "  'because', 'it', 'touches', 'on', 'so', 'many', 'important', 'issues', 'but', 'it', 'does', 'so',\n",
      "  'without', 'any', 'discernable', 'motive', 'the', 'viewer', 'comes', 'away', 'with', 'no', 'new',\n",
      "  'perspectives', 'unless', 'one', 'comes', 'up', 'with', 'one', 'while', 'ones', 'mind', 'wanders',\n",
      "  'as', 'it', 'will', 'invariably', 'do', 'during', 'this', 'pointless', 'filmbr', 'br', 'one',\n",
      "  'might', 'better', 'spend', 'ones', 'time', 'staring', 'out', 'a', 'window', 'at', 'a', 'tree',\n",
      "  'growingbr', 'br', '', '<END>']]\n",
      "corpus size:  290\n"
     ]
    }
   ],
   "source": [
    "imdb_corpus = read_corpus()\n",
    "pprint.pprint(imdb_corpus[:3], compact=True, width=100)\n",
    "print(\"corpus size: \", len(imdb_corpus[0]))\n",
    "# 总共是 150 条电影评论，输出了前 3 条评论的内容，每条评论都被处理成了一个单词列表，打印的是第一条评论中的单词数量（包括特殊标记）；"
   ]
  },
  {
   "cell_type": "markdown",
   "metadata": {
    "id": "tfa216H1SSt0"
   },
   "source": [
    "### Question 1.1: Implement `distinct_words` [code] (2 points) 去除重复token并排序\n",
    "\n",
    "在后面的共现矩阵构造里，我们要建立一个矩阵 \n",
    "𝑀，M∈$R^{∣V∣×∣V∣}$，其中 |V| 是词汇表大小（vocabulary size）。如果不去重，你可能会重复计入同一个词，导致矩阵的行列数大于实际词表大小，或者映射字典 word2ind 出现冲突。\n",
    "\n",
    "Write a method to work out the distinct words (word types) that occur in the corpus.\n",
    "\n",
    "You can use `for` loops to process the input `corpus` (a list of list of strings), but try using Python list comprehensions (which are generally faster). In particular, [this](https://coderwall.com/p/rcmaea/flatten-a-list-of-lists-in-one-line-in-python) may be useful to flatten a list of lists. If you're not familiar with Python list comprehensions in general, here's [more information](https://python-3-patterns-idioms-test.readthedocs.io/en/latest/Comprehensions.html).\n",
    "\n",
    "Your returned `corpus_words` should be sorted. You can use python's `sorted` function for this.\n",
    "\n",
    "You may find it useful to use [Python sets](https://www.w3schools.com/python/python_sets.asp) to remove duplicate words."
   ]
  },
  {
   "cell_type": "code",
   "execution_count": null,
   "metadata": {
    "id": "NjJABbVFSSt1"
   },
   "outputs": [],
   "source": [
    "def distinct_words(corpus):\n",
    "    \"\"\" Determine a list of distinct words for the corpus.\n",
    "        Params:\n",
    "            corpus (list of list of strings): corpus of documents\n",
    "        Return:\n",
    "            corpus_words (list of strings): sorted list of distinct words across the corpus\n",
    "            n_corpus_words (integer): number of distinct words across the corpus\n",
    "    \"\"\"\n",
    "    corpus_words = []\n",
    "    n_corpus_words = -1\n",
    "    corpus_words = sorted(set([word for document in corpus for word in document]))\n",
    "    n_corpus_words = len(corpus_words)\n",
    "    return corpus_words, n_corpus_words\n",
    "# 找出语料库中出现的不同单词并排序"
   ]
  },
  {
   "cell_type": "code",
   "execution_count": 13,
   "metadata": {
    "colab": {
     "base_uri": "https://localhost:8080/"
    },
    "id": "iKfXBXySSSt3",
    "outputId": "8b49421a-1cff-4f10-fe4a-927f30570b59"
   },
   "outputs": [
    {
     "name": "stdout",
     "output_type": "stream",
     "text": [
      "--------------------------------------------------------------------------------\n",
      "Passed All Tests!\n",
      "--------------------------------------------------------------------------------\n"
     ]
    }
   ],
   "source": [
    "# ---------------------\n",
    "# Run this sanity check\n",
    "# Note that this not an exhaustive check for correctness.\n",
    "# ---------------------\n",
    "\n",
    "# Define toy corpus\n",
    "test_corpus = [\"{} All that glitters isn't gold {}\".format(START_TOKEN, END_TOKEN).split(\" \"), \"{} All's well that ends well {}\".format(START_TOKEN, END_TOKEN).split(\" \")]\n",
    "test_corpus_words, num_corpus_words = distinct_words(test_corpus)\n",
    "\n",
    "# Correct answers\n",
    "ans_test_corpus_words = sorted([START_TOKEN, \"All\", \"ends\", \"that\", \"gold\", \"All's\", \"glitters\", \"isn't\", \"well\", END_TOKEN])\n",
    "ans_num_corpus_words = len(ans_test_corpus_words)\n",
    "\n",
    "# Test correct number of words\n",
    "assert(num_corpus_words == ans_num_corpus_words), \"Incorrect number of distinct words. Correct: {}. Yours: {}\".format(ans_num_corpus_words, num_corpus_words)\n",
    "\n",
    "# Test correct words\n",
    "assert (test_corpus_words == ans_test_corpus_words), \"Incorrect corpus_words.\\nCorrect: {}\\nYours:   {}\".format(str(ans_test_corpus_words), str(test_corpus_words))\n",
    "\n",
    "# Print Success\n",
    "print (\"-\" * 80)\n",
    "print(\"Passed All Tests!\")\n",
    "print (\"-\" * 80)"
   ]
  },
  {
   "cell_type": "markdown",
   "metadata": {
    "id": "ymDFJn_lSSt5"
   },
   "source": [
    "### Question 1.2: Implement `compute_co_occurrence_matrix` [code] (3 points) 构造共现矩阵\n",
    "\n",
    "遍历 corpus，对每个“中心词”在一个窗口内统计周围词出现次数，得到 M（词 × 词 的共现计数矩阵），并返回 word2ind（词→索引）。\n",
    "\n",
    "① 窗口大小会显著影响共现（短窗口更捕捉语法、长窗口更捕捉主题）；\n",
    "\n",
    "② 数据量太小（你只用 NUM_SAMPLES=150）会导致矩阵非常稀疏，信息少，降维后效果差（这就是你观察到左图点“挤在一起”的原因）。\n",
    "\n",
    "Write a method that constructs a co-occurrence matrix for a certain window-size $n$ (with a default of 4), considering words $n$ before and $n$ after the word in the center of the window. Here, we start to use `numpy (np)` to represent vectors, matrices, and tensors. If you're not familiar with NumPy, there's a NumPy tutorial in the second half of this cs231n [Python NumPy tutorial](http://cs231n.github.io/python-numpy-tutorial/).\n"
   ]
  },
  {
   "cell_type": "code",
   "execution_count": null,
   "metadata": {
    "id": "v8MIy3KDSSt6"
   },
   "outputs": [],
   "source": [
    "def compute_co_occurrence_matrix(corpus, window_size=4):\n",
    "    # 获取所有不重复的单词及其数量\n",
    "    words, n_words = distinct_words(corpus)\n",
    "    \n",
    "    # 创建单词到索引的映射字典\n",
    "    word2ind = dict(zip(words, range(n_words)))\n",
    "    \n",
    "    # 初始化共现矩阵为0矩阵\n",
    "    M = np.zeros((n_words, n_words))\n",
    "    \n",
    "    # 遍历每个文档\n",
    "    for document in corpus:\n",
    "        # 遍历文档中的每个单词位置\n",
    "        for i in range(len(document)):\n",
    "            # 获取中心词的索引\n",
    "            word_idx = word2ind[document[i]]\n",
    "            \n",
    "            # 计算窗口的左右边界\n",
    "            window_start = max(0, i - window_size)\n",
    "            window_end = min(len(document), i + window_size + 1)\n",
    "            \n",
    "            # 遍历窗口内的单词(不包括中心词本身)\n",
    "            for j in range(window_start, window_end):\n",
    "                if i != j:  # 不统计单词与自己的共现\n",
    "                    context_idx = word2ind[document[j]]\n",
    "                    M[word_idx, context_idx] += 1\n",
    "    \n",
    "    return M, word2ind\n",
    "# 输出共现矩阵和映射字典"
   ]
  },
  {
   "cell_type": "code",
   "execution_count": 17,
   "metadata": {
    "colab": {
     "base_uri": "https://localhost:8080/"
    },
    "id": "u-6ID1qhSSt7",
    "outputId": "f4f1bccb-06a8-4bb6-ec80-f2b6201b2645"
   },
   "outputs": [
    {
     "name": "stdout",
     "output_type": "stream",
     "text": [
      "--------------------------------------------------------------------------------\n",
      "Passed All Tests!\n",
      "--------------------------------------------------------------------------------\n"
     ]
    }
   ],
   "source": [
    "# ---------------------\n",
    "# Run this sanity check\n",
    "# Note that this is not an exhaustive check for correctness.\n",
    "# ---------------------\n",
    "\n",
    "# Define toy corpus and get student's co-occurrence matrix\n",
    "test_corpus = [\"{} All that glitters isn't gold {}\".format(START_TOKEN, END_TOKEN).split(\" \"), \"{} All's well that ends well {}\".format(START_TOKEN, END_TOKEN).split(\" \")]\n",
    "M_test, word2ind_test = compute_co_occurrence_matrix(test_corpus, window_size=1)\n",
    "\n",
    "# Correct M and word2ind\n",
    "M_test_ans = np.array( \n",
    "    [[0., 0., 0., 0., 0., 0., 1., 0., 0., 1.,],\n",
    "     [0., 0., 1., 1., 0., 0., 0., 0., 0., 0.,],\n",
    "     [0., 1., 0., 0., 0., 0., 0., 0., 1., 0.,],\n",
    "     [0., 1., 0., 0., 0., 0., 0., 0., 0., 1.,],\n",
    "     [0., 0., 0., 0., 0., 0., 0., 0., 1., 1.,],\n",
    "     [0., 0., 0., 0., 0., 0., 0., 1., 1., 0.,],\n",
    "     [1., 0., 0., 0., 0., 0., 0., 1., 0., 0.,],\n",
    "     [0., 0., 0., 0., 0., 1., 1., 0., 0., 0.,],\n",
    "     [0., 0., 1., 0., 1., 1., 0., 0., 0., 1.,],\n",
    "     [1., 0., 0., 1., 1., 0., 0., 0., 1., 0.,]]\n",
    ")\n",
    "ans_test_corpus_words = sorted([START_TOKEN, \"All\", \"ends\", \"that\", \"gold\", \"All's\", \"glitters\", \"isn't\", \"well\", END_TOKEN])\n",
    "word2ind_ans = dict(zip(ans_test_corpus_words, range(len(ans_test_corpus_words))))\n",
    "\n",
    "# Test correct word2ind\n",
    "assert (word2ind_ans == word2ind_test), \"Your word2ind is incorrect:\\nCorrect: {}\\nYours: {}\".format(word2ind_ans, word2ind_test)\n",
    "\n",
    "# Test correct M shape\n",
    "assert (M_test.shape == M_test_ans.shape), \"M matrix has incorrect shape.\\nCorrect: {}\\nYours: {}\".format(M_test.shape, M_test_ans.shape)\n",
    "\n",
    "# Test correct M values\n",
    "for w1 in word2ind_ans.keys():\n",
    "    idx1 = word2ind_ans[w1]\n",
    "    for w2 in word2ind_ans.keys():\n",
    "        idx2 = word2ind_ans[w2]\n",
    "        student = M_test[idx1, idx2]\n",
    "        correct = M_test_ans[idx1, idx2]\n",
    "        if student != correct:\n",
    "            print(\"Correct M:\")\n",
    "            print(M_test_ans)\n",
    "            print(\"Your M: \")\n",
    "            print(M_test)\n",
    "            raise AssertionError(\"Incorrect count at index ({}, {})=({}, {}) in matrix M. Yours has {} but should have {}.\".format(idx1, idx2, w1, w2, student, correct))\n",
    "\n",
    "# Print Success\n",
    "print (\"-\" * 80)\n",
    "print(\"Passed All Tests!\")\n",
    "print (\"-\" * 80)"
   ]
  },
  {
   "cell_type": "markdown",
   "metadata": {
    "id": "K-nyJnAASSt9"
   },
   "source": [
    "### Question 1.3: Implement `reduce_to_k_dim` [code] (1 point) 降维\n",
    "\n",
    "原始共现矩阵/词向量维度太高（不可视）；SVD 可以把数据的主要线性成分压缩到少量维度，便于观察语义结构。\n",
    "\n",
    "Construct a method that performs dimensionality reduction on the matrix to produce k-dimensional embeddings. Use SVD to take the top k components and produce a new matrix of k-dimensional embeddings. \n",
    "\n",
    "**Note:** All of numpy, scipy, and scikit-learn (`sklearn`) provide *some* implementation of SVD, but only scipy and sklearn provide an implementation of Truncated SVD, and only sklearn provides an efficient randomized algorithm for calculating large-scale Truncated SVD. So please use [sklearn.decomposition.TruncatedSVD](https://scikit-learn.org/stable/modules/generated/sklearn.decomposition.TruncatedSVD.html)."
   ]
  },
  {
   "cell_type": "code",
   "execution_count": 22,
   "metadata": {
    "id": "truGMjifSSt9"
   },
   "outputs": [],
   "source": [
    "def reduce_to_k_dim(M, k=2):\n",
    "    \n",
    "    n_iters = 10   \n",
    "    print(\"Running Truncated SVD over %i words...\" % (M.shape[0]))\n",
    "    \n",
    "    # 创建 TruncatedSVD 实例\n",
    "    svd = TruncatedSVD(n_components=k, n_iter=n_iters)\n",
    "    \n",
    "    # 对共现矩阵进行降维,得到 U*S，同时拟合模型并转换数据。fit_transform 返回的矩阵通常对应于 U * S 的近似（奇异向量左矩阵乘以对应奇异值）\n",
    "    M_reduced = svd.fit_transform(M)\n",
    "    \n",
    "    print(\"Done.\")\n",
    "    return M_reduced\n",
    "# 构建一种对矩阵进行降维以生成 k 维嵌入的方法。使用 SVD 提取前 k 个分量并生成一个新的 k 维嵌入矩阵。"
   ]
  },
  {
   "cell_type": "code",
   "execution_count": 23,
   "metadata": {
    "colab": {
     "base_uri": "https://localhost:8080/"
    },
    "id": "7pqKuqvhSSt-",
    "outputId": "7d147bd2-9916-4226-d936-43ce795006cb"
   },
   "outputs": [
    {
     "name": "stdout",
     "output_type": "stream",
     "text": [
      "Running Truncated SVD over 10 words...\n",
      "Done.\n",
      "--------------------------------------------------------------------------------\n",
      "Passed All Tests!\n",
      "--------------------------------------------------------------------------------\n"
     ]
    }
   ],
   "source": [
    "# ---------------------\n",
    "# Run this sanity check\n",
    "# Note that this is not an exhaustive check for correctness \n",
    "# In fact we only check that your M_reduced has the right dimensions.\n",
    "# ---------------------\n",
    "\n",
    "# Define toy corpus and run student code\n",
    "test_corpus = [\"{} All that glitters isn't gold {}\".format(START_TOKEN, END_TOKEN).split(\" \"), \"{} All's well that ends well {}\".format(START_TOKEN, END_TOKEN).split(\" \")]\n",
    "M_test, word2ind_test = compute_co_occurrence_matrix(test_corpus, window_size=1)\n",
    "M_test_reduced = reduce_to_k_dim(M_test, k=2)\n",
    "\n",
    "# (n_words, k)\n",
    "# Test proper dimensions\n",
    "assert (M_test_reduced.shape[0] == 10), \"M_reduced has {} rows; should have {}\".format(M_test_reduced.shape[0], 10)\n",
    "assert (M_test_reduced.shape[1] == 2), \"M_reduced has {} columns; should have {}\".format(M_test_reduced.shape[1], 2)\n",
    "\n",
    "# Print Success\n",
    "print (\"-\" * 80)\n",
    "print(\"Passed All Tests!\")\n",
    "print (\"-\" * 80)"
   ]
  },
  {
   "cell_type": "markdown",
   "metadata": {
    "id": "apZknsLoSSt_"
   },
   "source": [
    "### Question 1.4: Implement `plot_embeddings` [code] (1 point)\n",
    "\n",
    "Here you will write a function to plot a set of 2D vectors in 2D space. For graphs, we will use Matplotlib (`plt`).\n",
    "\n",
    "For this example, you may find it useful to adapt [this code](http://web.archive.org/web/20190924160434/https://www.pythonmembers.club/2018/05/08/matplotlib-scatter-plot-annotate-set-text-at-label-each-point/). In the future, a good way to make a plot is to look at [the Matplotlib gallery](https://matplotlib.org/gallery/index.html), find a plot that looks somewhat like what you want, and adapt the code they give."
   ]
  },
  {
   "cell_type": "code",
   "execution_count": 24,
   "metadata": {
    "id": "dDcCZE5lSSuA"
   },
   "outputs": [],
   "source": [
    "def plot_embeddings(M_reduced, word2ind, words):\n",
    "    # 创建新的图形\n",
    "    plt.figure()\n",
    "    \n",
    "    # 获取要可视化的词的坐标\n",
    "    x_coords = [M_reduced[word2ind[w], 0] for w in words]\n",
    "    y_coords = [M_reduced[word2ind[w], 1] for w in words]\n",
    "    \n",
    "    # 绘制散点图\n",
    "    plt.scatter(x_coords, y_coords, marker='o')\n",
    "\n",
    "    # 为每个点添加文本标签\n",
    "    for i, word in enumerate(words):\n",
    "        plt.annotate(word,\n",
    "                    (x_coords[i], y_coords[i]), # 点的坐标\n",
    "                    xytext=(5, 2), textcoords='offset points', \n",
    "                    fontsize=8)            \n",
    "    \n",
    "    # 设置图形属性\n",
    "    plt.xlabel(\"Dimension 1\")    # x轴标签\n",
    "    plt.ylabel(\"Dimension 2\")    # y轴标签\n",
    "    plt.title(\"Word Embeddings\") # 图形标题\n",
    "    \n",
    "    # 调整布局以防止标签重叠\n",
    "    plt.tight_layout()\n",
    "    \n",
    "    # 显示图形\n",
    "    plt.show()\n",
    "    # 在二维空间中绘制一组二维向量"
   ]
  },
  {
   "cell_type": "code",
   "execution_count": 25,
   "metadata": {
    "colab": {
     "base_uri": "https://localhost:8080/",
     "height": 372
    },
    "id": "gHxOMWPxSSuB",
    "outputId": "565711fc-02ea-43cb-daa5-8b8bb310cdda"
   },
   "outputs": [
    {
     "name": "stdout",
     "output_type": "stream",
     "text": [
      "--------------------------------------------------------------------------------\n",
      "Outputted Plot:\n"
     ]
    },
    {
     "data": {
      "image/png": "[encoded data removed]",
      "text/plain": [
       "<Figure size 1000x500 with 1 Axes>"
      ]
     },
     "metadata": {},
     "output_type": "display_data"
    },
    {
     "name": "stdout",
     "output_type": "stream",
     "text": [
      "--------------------------------------------------------------------------------\n"
     ]
    }
   ],
   "source": [
    "# ---------------------\n",
    "# Run this sanity check\n",
    "# Note that this is not an exhaustive check for correctness.\n",
    "# The plot produced should look like the included file question_1.4_test.png \n",
    "# ---------------------\n",
    "\n",
    "print (\"-\" * 80)\n",
    "print (\"Outputted Plot:\")\n",
    "\n",
    "M_reduced_plot_test = np.array([[1, 1], [-1, -1], [1, -1], [-1, 1], [0, 0]])\n",
    "word2ind_plot_test = {'test1': 0, 'test2': 1, 'test3': 2, 'test4': 3, 'test5': 4}\n",
    "words = ['test1', 'test2', 'test3', 'test4', 'test5']\n",
    "plot_embeddings(M_reduced_plot_test, word2ind_plot_test, words)\n",
    "\n",
    "print (\"-\" * 80)"
   ]
  },
  {
   "cell_type": "markdown",
   "metadata": {
    "id": "YpBzYs2hSSuC"
   },
   "source": [
    "### Question 1.5: Co-Occurrence Plot Analysis [written] (3 points)\n",
    "\n",
    "虽然图上画的是点，但每个点就是一个向量，点到原点的距离就是向量的长度。\n",
    "\n",
    "SVD 返回的向量既包含方向信息也包含被奇异值或频率放大的尺度信息，这会影响可视化与相似度判定。\n",
    "\n",
    "所以常用 L2 归一化 来把焦点放在“方向（语义）”上，便于用余弦相似度比较和绘图展示。\n",
    "\n",
    "Now we will put together all the parts you have written! We will compute the co-occurrence matrix with fixed window of 4 (the default window size), over the Large Movie Review corpus. Then we will use TruncatedSVD to compute 2-dimensional embeddings of each word. TruncatedSVD returns U\\*S, so we need to normalize the returned vectors, so that all the vectors will appear around the unit circle (therefore closeness is directional closeness). **Note**: The line of code below that does the normalizing uses the NumPy concept of *broadcasting*. If you don't know about broadcasting, check out\n",
    "[Computation on Arrays: Broadcasting by Jake VanderPlas](https://jakevdp.github.io/PythonDataScienceHandbook/02.05-computation-on-arrays-broadcasting.html).\n",
    "\n",
    "Run the below cell to produce the plot. It can take up to a few minutes to run."
   ]
  },
  {
   "cell_type": "markdown",
   "metadata": {},
   "source": [
    "| 小节         | 任务                 | 目标                             |\n",
    "| ---------- | ------------------ | ------------------------------ |\n",
    "| **1.1**    | 获取所有不同的词并排序        | 构建词汇表                          |\n",
    "| **1.2**    | 计算共现矩阵             | 把“词的上下文关系”数值化                  |\n",
    "| **1.3**    | 用 SVD 降维           | 把高维的统计关系映射到低维空间                |\n",
    "| **1.4**    | 绘制二维向量             | 可视化语义结构                        |\n",
    "| **➡️ 1.5** | **运行整体流程 + 加上归一化** | 检查模型是否工作正常，并为之后的 GloVe 部分做对比准备 |\n"
   ]
  },
  {
   "cell_type": "code",
   "execution_count": 54,
   "metadata": {
    "colab": {
     "base_uri": "https://localhost:8080/",
     "height": 355
    },
    "id": "7L1Uk50mSSuD",
    "outputId": "35ae3e41-07c8-421b-e75c-dcbeaa4fb015"
   },
   "outputs": [
    {
     "name": "stdout",
     "output_type": "stream",
     "text": [
      "Running Truncated SVD over 5880 words...\n",
      "Done.\n"
     ]
    },
    {
     "data": {
      "image/png": "[encoded data removed]",
      "text/plain": [
       "<Figure size 1000x500 with 1 Axes>"
      ]
     },
     "metadata": {},
     "output_type": "display_data"
    }
   ],
   "source": [
    "# -----------------------------\n",
    "# Run This Cell to Produce Your Plot\n",
    "# ------------------------------\n",
    "imdb_corpus = read_corpus()\n",
    "M_co_occurrence, word2ind_co_occurrence = compute_co_occurrence_matrix(imdb_corpus)\n",
    "M_reduced_co_occurrence = reduce_to_k_dim(M_co_occurrence, k=2)\n",
    "\n",
    "# Rescale (normalize) the rows to make them each of unit-length\n",
    "M_lengths = np.linalg.norm(M_reduced_co_occurrence, axis=1)\n",
    "M_normalized = M_reduced_co_occurrence / M_lengths[:, np.newaxis] # broadcasting\n",
    "# L2 归一化（unit length），即把每一行向量除以它的长度，使其长度为 1，L2 归一化能让方向保持一致，方便用余弦相似度做比较\n",
    "words = ['movie', 'book', 'mysterious', 'story', 'fascinating', 'good', 'interesting', 'large', 'massive', 'huge']\n",
    "# 绘图的时候只挑了“几个词”出来\n",
    "\n",
    "plot_embeddings(M_normalized, word2ind_co_occurrence, words)"
   ]
  },
  {
   "cell_type": "code",
   "execution_count": null,
   "metadata": {},
   "outputs": [
    {
     "data": {
      "image/png": "[encoded data removed]",
      "text/plain": [
       "<Figure size 1000x500 with 1 Axes>"
      ]
     },
     "metadata": {},
     "output_type": "display_data"
    }
   ],
   "source": [
    "plot_embeddings(M_reduced_co_occurrence, word2ind_co_occurrence, words)\n",
    "\n",
    "# 高频词（如 “the”、“movie”）共现次数很多，对应向量长度很大；\n",
    "# 低频词（如 “mysterious”）长度很小。\n",
    "# 如果你直接画图，高频词会“挤在一起”或“拉伸空间”。\n",
    "# 归一化后：所有向量长度统一为 1，比较的只剩“方向”——即语义关系。"
   ]
  },
  {
   "cell_type": "code",
   "execution_count": null,
   "metadata": {},
   "outputs": [
    {
     "data": {
      "image/png": "[encoded data removed]",
      "text/plain": [
       "<Figure size 1000x500 with 1 Axes>"
      ]
     },
     "metadata": {},
     "output_type": "display_data"
    },
    {
     "data": {
      "image/png": "[encoded data removed]",
      "text/plain": [
       "<Figure size 1000x500 with 1 Axes>"
      ]
     },
     "metadata": {},
     "output_type": "display_data"
    }
   ],
   "source": [
    "all_words = list(word2ind_co_occurrence.keys())\n",
    "plot_embeddings(M_normalized, word2ind_co_occurrence, all_words)\n",
    "\n",
    "words_to_plot = all_words[:200]  # 只取前200个词\n",
    "plot_embeddings(M_normalized, word2ind_co_occurrence, words_to_plot)"
   ]
  },
  {
   "cell_type": "code",
   "execution_count": null,
   "metadata": {},
   "outputs": [
    {
     "data": {
      "image/png": "[encoded data removed]",
      "text/plain": [
       "<Figure size 1000x500 with 1 Axes>"
      ]
     },
     "metadata": {},
     "output_type": "display_data"
    }
   ],
   "source": [
    "words = ['good','great','bad','terrible','excellent','awful']\n",
    "plot_embeddings(M_normalized, word2ind_co_occurrence, words)"
   ]
  },
  {
   "cell_type": "markdown",
   "metadata": {
    "id": "RtOd40JTSSuE"
   },
   "source": [
    "**Verify that your figure matches \"question_1.5.png\" in the assignment zip. If not, use the figure in \"question_1.5.png\" to answer the next two questions.**"
   ]
  },
  {
   "cell_type": "markdown",
   "metadata": {
    "id": "ciXWGMvRSSuE"
   },
   "source": [
    "a. Find at least two groups of words that cluster together in 2-dimensional embedding space. Give an explanation for each cluster you observe."
   ]
  },
  {
   "cell_type": "markdown",
   "metadata": {
    "id": "fLU7o3HESSuF"
   },
   "source": [
    "#### <font color=\"red\">Write your answer here.</font>\n"
   ]
  },
  {
   "cell_type": "markdown",
   "metadata": {
    "id": "3H-tyA9RSSuF"
   },
   "source": [
    "b. What doesn't cluster together that you might think should have? Describe at least two examples."
   ]
  },
  {
   "cell_type": "markdown",
   "metadata": {
    "id": "3NG2j9J4SSuG"
   },
   "source": [
    "#### <font color=\"red\">Write your answer here.</font>"
   ]
  },
  {
   "cell_type": "markdown",
   "metadata": {},
   "source": [
    "| 对比项  | 基于计数（你前面实现的） | 基于预测（Word2Vec）      | GloVe            |\n",
    "| ---- | ------------ | ------------------- | ---------------- |\n",
    "| 核心思想 | 明确数共现次数      | 预测上下文词              | 用 log(共现) 作为监督信号 |\n",
    "| 计算方式 | 统计矩阵 + SVD   | 神经网络训练              | 矩阵拟合 + 神经网络优化    |\n",
    "| 数据结构 | 明确共现矩阵       | 直接遍历语料              | 共现矩阵但只训练非零部分     |\n",
    "| 优点   | 简单可解释        | 精确捕捉上下文             | 结合两者优势           |\n",
    "| 代表模型 | PPMI, LSA    | Word2Vec, Skip-gram | GloVe            |\n",
    "| 输出   | 固定词向量        | 固定词向量               | 固定词向量（200维/300维） |\n"
   ]
  },
  {
   "cell_type": "markdown",
   "metadata": {
    "id": "_h0OzAaRSSuI"
   },
   "source": [
    "## Part 2: Prediction-Based Word Vectors (15 points)\n",
    "\n",
    "As discussed in class, more recently prediction-based word vectors have demonstrated better performance, such as word2vec and GloVe (which also utilizes the benefit of counts). Here, we shall explore the embeddings produced by GloVe. Please revisit the class notes and lecture slides for more details on the word2vec and GloVe algorithms. If you're feeling adventurous, challenge yourself and try reading [GloVe's original paper](https://nlp.stanford.edu/pubs/glove.pdf).\n",
    "\n",
    "Then run the following cells to load the GloVe vectors into memory. **Note**: If this is your first time to run these cells, i.e. download the embedding model, it will take a couple minutes to run. If you've run these cells before, rerunning them will load the model without redownloading it, which will take about 1 to 2 minutes."
   ]
  },
  {
   "cell_type": "code",
   "execution_count": null,
   "metadata": {
    "colab": {
     "base_uri": "https://localhost:8080/"
    },
    "id": "l3kwvdksSSuI",
    "outputId": "736a4672-4b59-4c2e-d6e6-b16e4548db30"
   },
   "outputs": [
    {
     "name": "stdout",
     "output_type": "stream",
     "text": [
      "Converting GloVe format to word2vec format...\n"
     ]
    },
    {
     "name": "stderr",
     "output_type": "stream",
     "text": [
      "/var/folders/7w/cqqy7mgs3zv90jrf16w5fksr0000gn/T/ipykernel_86776/1709120793.py:14: DeprecationWarning: Call to deprecated `glove2word2vec` (KeyedVectors.load_word2vec_format(.., binary=False, no_header=True) loads GLoVE text vectors.).\n",
      "  glove2word2vec(glove_input_file, word2vec_output_file)\n"
     ]
    },
    {
     "name": "stdout",
     "output_type": "stream",
     "text": [
      "Loading model...\n",
      "✅ Loaded vocab size: 400000\n"
     ]
    }
   ],
   "source": [
    "# 加载预训练词向量\n",
    "def load_embedding_model():\n",
    "    \"\"\"Load local GloVe vectors (converted to word2vec format)\"\"\"\n",
    "    from gensim.scripts.glove2word2vec import glove2word2vec\n",
    "    from gensim.models import KeyedVectors\n",
    "    import os\n",
    "\n",
    "    # 路径配置\n",
    "    glove_input_file = \"/Users/zhangyuxin/Pycharm_Projects/py_works/cs224n/glove.6B/glove.6B.200d.txt\"\n",
    "    word2vec_output_file = \"/Users/zhangyuxin/Pycharm_Projects/py_works/cs224n/glove.6B.200d.word2vec.txt\"\n",
    "\n",
    "    # 如果还没转换过，就转换一次\n",
    "    if not os.path.exists(word2vec_output_file):\n",
    "        print(\"Converting GloVe format to word2vec format...\")\n",
    "        glove2word2vec(glove_input_file, word2vec_output_file)\n",
    "\n",
    "    # 加载模型\n",
    "    print(\"Loading model...\")\n",
    "    wv_from_bin = KeyedVectors.load_word2vec_format(word2vec_output_file, binary=False)\n",
    "    print(\"✅ Loaded vocab size:\", len(wv_from_bin))\n",
    "\n",
    "    return wv_from_bin\n",
    "\n",
    "# 运行\n",
    "wv_from_bin = load_embedding_model()\n"
   ]
  },
  {
   "cell_type": "code",
   "execution_count": 57,
   "metadata": {},
   "outputs": [
    {
     "name": "stdout",
     "output_type": "stream",
     "text": [
      "[-0.49346   -0.14768    0.32166    0.056899   0.052572   0.20192\n",
      " -0.13506   -0.030793   0.15614   -0.23004   -0.66376   -0.27316\n",
      "  0.10391    0.57334   -0.032355  -0.32766   -0.2716     0.32919\n",
      "  0.41305   -0.18085    1.5167     2.1649    -0.10278    0.098019\n",
      " -0.018946   0.027292  -0.7948     0.36631   -0.33151    0.2884\n",
      "  0.10436   -0.19166    0.27326   -0.17519   -0.14986   -0.072333\n",
      " -0.54371   -0.29728    0.081491  -0.42673   -0.36406   -0.52035\n",
      "  0.18455    0.44121   -0.32196    0.39172    0.11952    0.36979\n",
      "  0.29229   -0.42954    0.46653   -0.067243   0.31216   -0.17216\n",
      "  0.48874    0.2803    -0.17577   -0.35101    0.020792   0.15974\n",
      "  0.21927   -0.32499    0.086022   0.38927   -0.65638   -0.67401\n",
      " -0.41896    1.2709     0.20857    0.28315    0.58238   -0.14944\n",
      "  0.3989     0.52681    0.35714   -0.39101   -0.55372   -0.56642\n",
      " -0.15762   -0.48004    0.40448    0.057518  -1.0157     0.21755\n",
      "  0.073296   0.15237   -0.38362   -0.75308   -0.0060254 -0.26232\n",
      " -0.54102   -0.34347    0.11113    0.47685   -0.7323     0.77597\n",
      "  0.015216  -0.66327   -0.21144   -0.42964   -0.7269    -0.067968\n",
      "  0.50601    0.039817  -0.27584   -0.34794   -0.0474     0.50734\n",
      " -0.30777    0.11594   -0.19211    0.3107    -0.60075    0.22044\n",
      " -0.36265   -0.59442   -1.2046     0.10619   -0.60278    0.21573\n",
      " -0.35362    0.55473    0.58094    0.077259   1.0776    -0.1867\n",
      " -1.5168     0.32418    0.83333    0.17366    1.1232     0.10863\n",
      "  0.55889    0.30799    0.084318  -0.43178   -0.042287  -0.054615\n",
      "  0.054712  -0.80914   -0.2443    -0.076909   0.55216   -0.71896\n",
      "  0.83319    0.020735   0.020472  -0.40279   -0.28874    0.23758\n",
      "  0.12576   -0.15165   -0.6942    -0.25174    0.29591    0.4029\n",
      " -1.0618     0.19847   -0.63463   -0.70843    0.067943   0.57366\n",
      "  0.041122   0.17452    0.19431   -0.28641   -1.1363     0.45116\n",
      " -0.066518   0.82615   -0.45452   -0.85652    0.18105   -0.24187\n",
      "  0.20153    0.72298    0.17415   -0.87328    0.69815    0.024706\n",
      "  0.26174   -0.0087155 -0.39349    0.13801   -0.39299   -0.23057\n",
      " -0.22611   -0.14407    0.010511  -0.47389   -0.15645    0.28601\n",
      " -0.21772   -0.49535    0.022209  -0.23575   -0.22469   -0.011578\n",
      "  0.52867   -0.062309 ]\n",
      "[('film', 0.8818061351776123), ('movies', 0.8750334978103638), ('films', 0.841464638710022), ('hollywood', 0.7369500994682312), ('comedy', 0.7269118428230286), ('starring', 0.7071565985679626), ('remake', 0.6943661570549011), ('sequel', 0.6853104829788208), ('drama', 0.6754486560821533), ('actor', 0.6588869094848633)]\n"
     ]
    },
    {
     "data": {
      "text/plain": [
       "(200,)"
      ]
     },
     "execution_count": 57,
     "metadata": {},
     "output_type": "execute_result"
    }
   ],
   "source": [
    "print(wv_from_bin['king'])\n",
    "print(wv_from_bin.most_similar('movie'))\n",
    "wv_from_bin['king'].shape"
   ]
  },
  {
   "cell_type": "markdown",
   "metadata": {
    "id": "egIeG1RTSSuK"
   },
   "source": [
    "#### Note: If you are receiving a \"reset by peer\" error, rerun the cell to restart the download. \n",
    "\n",
    "把 GloVe 降维并与共现结果比较"
   ]
  },
  {
   "cell_type": "code",
   "execution_count": null,
   "metadata": {},
   "outputs": [
    {
     "name": "stdout",
     "output_type": "stream",
     "text": [
      "Running Truncated SVD over 10 words...\n",
      "Done.\n"
     ]
    },
    {
     "data": {
      "image/png": "[encoded data removed]",
      "text/plain": [
       "<Figure size 1000x500 with 2 Axes>"
      ]
     },
     "metadata": {},
     "output_type": "display_data"
    }
   ],
   "source": [
    "import numpy as np\n",
    "import matplotlib.pyplot as plt\n",
    "\n",
    "# ========== 1️⃣ 取出 GloVe 向量 ==========\n",
    "# 我们选取与共现矩阵相同的词\n",
    "common_words = ['movie', 'book', 'mysterious', 'story', \n",
    "                'fascinating', 'good', 'interesting', \n",
    "                'large', 'massive', 'huge']\n",
    "\n",
    "# 从 GloVe 模型里取出这些词的向量\n",
    "glove_vectors = []\n",
    "found_words = []\n",
    "for w in common_words:\n",
    "    if w in wv_from_bin:\n",
    "        glove_vectors.append(wv_from_bin[w])\n",
    "        found_words.append(w)\n",
    "    else:\n",
    "        print(f\"⚠️ {w} 不在 GloVe 模型中\")\n",
    "\n",
    "M_glove = np.stack(glove_vectors) # (n个词, 200)\n",
    "\n",
    "# ========== 2️⃣ GloVe 降维到二维 ==========\n",
    "M_glove_reduced = reduce_to_k_dim(M_glove, k=2)\n",
    "\n",
    "# ========== 3️⃣ 从共现矩阵降维结果中取对应词 ==========\n",
    "cooc_vectors = []\n",
    "found_cooc = []\n",
    "for w in found_words:\n",
    "    if w in word2ind_co_occurrence:\n",
    "        idx = word2ind_co_occurrence[w]\n",
    "        cooc_vectors.append(M_normalized[idx])\n",
    "        found_cooc.append(w)\n",
    "\n",
    "M_cooc = np.stack(cooc_vectors) # (n个词, 2)\n",
    "\n",
    "# ========== 4️⃣ 画两张图对比 ==========\n",
    "plt.figure(figsize=(10, 5))\n",
    "\n",
    "# 左边：共现矩阵结果\n",
    "plt.subplot(1, 2, 1)\n",
    "plt.scatter(M_cooc[:, 0], M_cooc[:, 1], c='blue')\n",
    "for i, word in enumerate(found_cooc):\n",
    "    plt.annotate(word, (M_cooc[i, 0], M_cooc[i, 1]))\n",
    "plt.title(\"Count-based (Co-occurrence)\")\n",
    "plt.xlabel(\"Dim 1\")\n",
    "plt.ylabel(\"Dim 2\")\n",
    "\n",
    "# 右边：GloVe 结果\n",
    "plt.subplot(1, 2, 2)\n",
    "plt.scatter(M_glove_reduced[:, 0], M_glove_reduced[:, 1], c='red')\n",
    "for i, word in enumerate(found_words):\n",
    "    plt.annotate(word, (M_glove_reduced[i, 0], M_glove_reduced[i, 1]))\n",
    "plt.title(\"Predictive-based (GloVe)\")\n",
    "plt.xlabel(\"Dim 1\")\n",
    "plt.ylabel(\"Dim 2\")\n",
    "\n",
    "plt.tight_layout()\n",
    "plt.show()\n"
   ]
  },
  {
   "cell_type": "markdown",
   "metadata": {},
   "source": [
    "| 项目   | 共现矩阵 (Count-based) | GloVe (Predictive-based) |\n",
    "| ---- | ------------------ | ------------------------ |\n",
    "| 数据来源 | 直接统计共现次数           | 模型预测上下文概率                |\n",
    "| 信息类型 | 局部统计               | 全局统计 + 语义优化              |\n",
    "| 降维方式 | SVD                | 训练得到                     |\n",
    "| 优点   | 可解释性强、简单           | 表达语义强、效果好                |\n",
    "| 缺点   | 词稀疏、噪声多            | 模型复杂、难解释                 |\n",
    "| 图像特征 | 分布紧密、结构模糊          | 聚类明显、语义清晰                |\n"
   ]
  },
  {
   "cell_type": "markdown",
   "metadata": {
    "id": "rH9gWJWpSSuL"
   },
   "source": [
    "### Reducing dimensionality of Word Embeddings\n",
    "\n",
    "对整个词向量矩阵（几千个词）进行统一降维，\n",
    "得到一个低维空间（比如 2 维或 50 维），用于后续分析或比较。\n",
    "\n",
    "gensim 的 wv_from_bin 不是 numpy 数组，而是一个 键值字典结构\n",
    "也就是说：\n",
    "\n",
    "它的内部不是一个规则的二维矩阵；\n",
    "\n",
    "你不能直接说 “取前40000行”；\n",
    "\n",
    "必须自己指定要哪些词、以什么顺序放进矩阵。\n",
    "\n",
    "Let's directly compare the GloVe embeddings to those of the co-occurrence matrix. In order to avoid running out of memory, we will work with a sample of 40000 GloVe vectors instead.\n",
    "Run the following cells to:\n",
    "\n",
    "1. Put 40000 Glove vectors into a matrix M\n",
    "2. Run `reduce_to_k_dim` (your Truncated SVD function) to reduce the vectors from 200-dimensional to 2-dimensional."
   ]
  },
  {
   "cell_type": "code",
   "execution_count": null,
   "metadata": {
    "id": "0PROUu_-SSuL"
   },
   "outputs": [],
   "source": [
    "def get_matrix_of_vectors(wv_from_bin, required_words):\n",
    "    \"\"\" Put the GloVe vectors into a matrix M.\n",
    "    \"\"\"\n",
    "    import random\n",
    "    words = list(wv_from_bin.index_to_key)\n",
    "    print(\"Shuffling words ...\")\n",
    "    random.seed(46)\n",
    "    random.shuffle(words)\n",
    "    print(\"Putting %i words into word2ind and matrix M...\" % len(words))\n",
    "    word2ind = {},M = []\n",
    "    curInd = 0 # 行索引计数器\n",
    "    for w in words:\n",
    "        try:\n",
    "            M.append(wv_from_bin.get_vector(w)) # 从 gensim 模型里取出向量值\n",
    "            word2ind[w] = curInd\n",
    "            curInd += 1 # 手动维护 “词 → 行号” 映射\n",
    "        except KeyError:\n",
    "            continue\n",
    "    for w in required_words:\n",
    "        if w in words:\n",
    "            continue\n",
    "        try:\n",
    "            M.append(wv_from_bin.get_vector(w))\n",
    "            word2ind[w] = curInd\n",
    "            curInd += 1\n",
    "        except KeyError:\n",
    "            continue\n",
    "    M = np.stack(M)\n",
    "    print(\"Done.\")\n",
    "    return M, word2ind"
   ]
  },
  {
   "cell_type": "markdown",
   "metadata": {},
   "source": [
    "```text\n",
    "GloVe 模型 (wv_from_bin)\n",
    "        │\n",
    "        │（按词取出向量）\n",
    "        ▼\n",
    "+----------------------------+\n",
    "| M = [v_movie, v_book, ...] |  ← Python 列表（每个元素是200维）\n",
    "+----------------------------+\n",
    "        │\n",
    "        │（堆叠成真正的矩阵）\n",
    "        ▼\n",
    "numpy矩阵 M.shape = (40000, 200)\n",
    "        │\n",
    "        │（字典记录行号）\n",
    "        ▼\n",
    "word2ind = {'movie': 0, 'book': 1, ...}\n"
   ]
  },
  {
   "cell_type": "code",
   "execution_count": null,
   "metadata": {
    "colab": {
     "base_uri": "https://localhost:8080/"
    },
    "id": "cpgM0M-hSSuM",
    "outputId": "b0989be9-8e11-45d8-8ba9-47297a990760"
   },
   "outputs": [
    {
     "name": "stdout",
     "output_type": "stream",
     "text": [
      "Shuffling words ...\n",
      "Putting 400000 words into word2ind and matrix M...\n",
      "Done.\n",
      "Running Truncated SVD over 400000 words...\n",
      "Done.\n"
     ]
    }
   ],
   "source": [
    "# 归一化-----------------------------------------------------------------\n",
    "# Run Cell to Reduce 200-Dimensional Word Embeddings to k Dimensions\n",
    "# Note: This should be quick to run\n",
    "# -----------------------------------------------------------------\n",
    "M, word2ind = get_matrix_of_vectors(wv_from_bin, words)\n",
    "M_reduced = reduce_to_k_dim(M, k=2)\n",
    "\n",
    "# Rescale (normalize) the rows to make them each of unit-length\n",
    "M_lengths = np.linalg.norm(M_reduced, axis=1)\n",
    "M_reduced_normalized = M_reduced / M_lengths[:, np.newaxis] # broadcasting"
   ]
  },
  {
   "cell_type": "markdown",
   "metadata": {
    "id": "8_46FYMJSSuN"
   },
   "source": [
    "**Note: If you are receiving out of memory issues on your local machine, try closing other applications to free more memory on your device. You may want to try restarting your machine so that you can free up extra memory. Then immediately run the jupyter notebook and see if you can load the word vectors properly. If you still have problems with loading the embeddings onto your local machine after this, please go to office hours or contact course staff.**"
   ]
  },
  {
   "cell_type": "markdown",
   "metadata": {
    "id": "zAFrU8ahSSuO"
   },
   "source": [
    "### Question 2.1: GloVe Plot Analysis [written] (3 points)\n",
    "\n",
    "Run the cell below to plot the 2D GloVe embeddings for `['movie', 'book', 'mysterious', 'story', 'fascinating', 'good', 'interesting', 'large', 'massive', 'huge']`."
   ]
  },
  {
   "cell_type": "code",
   "execution_count": 39,
   "metadata": {
    "colab": {
     "base_uri": "https://localhost:8080/",
     "height": 321
    },
    "id": "9kHRkjz6SSuO",
    "outputId": "fbe0f8af-ea5e-456d-8d75-b9ad0caaa5fc",
    "scrolled": true
   },
   "outputs": [
    {
     "data": {
      "image/png": "[encoded data removed]",
      "text/plain": [
       "<Figure size 1000x500 with 1 Axes>"
      ]
     },
     "metadata": {},
     "output_type": "display_data"
    }
   ],
   "source": [
    "words = ['movie', 'book', 'mysterious', 'story', 'fascinating', 'good', 'interesting', 'large', 'massive', 'huge']\n",
    "\n",
    "plot_embeddings(M_reduced_normalized, word2ind, words)"
   ]
  },
  {
   "cell_type": "markdown",
   "metadata": {},
   "source": [
    "**Verify that your figure matches \"question_2.1.png\" in the assignment zip. If not, use the figure in \"question_2.1.png\" (and the figure in \"question_1.5.png\", if applicable) to answer the next two questions.**"
   ]
  },
  {
   "cell_type": "markdown",
   "metadata": {
    "id": "eOnrMZkzSSuP"
   },
   "source": [
    "a. What is one way the plot is different from the one generated earlier from the co-occurrence matrix? What is one way it's similar?"
   ]
  },
  {
   "cell_type": "markdown",
   "metadata": {
    "id": "5KC4PTQoSSuQ"
   },
   "source": [
    "#### <font color=\"red\">Write your answer here.</font>"
   ]
  },
  {
   "cell_type": "markdown",
   "metadata": {
    "id": "bNDY5puZSSuQ"
   },
   "source": [
    "b. Why might the GloVe plot (question_2.1.png) differ from the plot generated earlier from the co-occurrence matrix (question_1.5.png)?"
   ]
  },
  {
   "cell_type": "markdown",
   "metadata": {
    "id": "o-cWAvi8SSuR"
   },
   "source": [
    "#### <font color=\"red\">Write your answer here.</font>"
   ]
  },
  {
   "cell_type": "markdown",
   "metadata": {
    "id": "nA8oIbjjSSuS"
   },
   "source": [
    "### Cosine Similarity 余弦相似度\n",
    "Now that we have word vectors, we need a way to quantify the similarity between individual words, according to these vectors. One such metric is cosine-similarity. We will be using this to find words that are \"close\" and \"far\" from one another.\n",
    "\n",
    "We can think of n-dimensional vectors as points in n-dimensional space. If we take this perspective [L1](http://mathworld.wolfram.com/L1-Norm.html) and [L2](http://mathworld.wolfram.com/L2-Norm.html) Distances help quantify the amount of space \"we must travel\" to get between these two points. Another approach is to examine the angle between two vectors. From trigonometry we know that:\n",
    "\n",
    "<img src=\"./imgs/inner_product.png\" width=20% style=\"float: center;\"></img>\n",
    "\n",
    "Instead of computing the actual angle, we can leave the similarity in terms of $similarity = cos(\\Theta)$. Formally the [Cosine Similarity](https://en.wikipedia.org/wiki/Cosine_similarity) $s$ between two vectors $p$ and $q$ is defined as:\n",
    "\n",
    "$s = \\frac{p \\cdot q}{||p|| ||q||}, \\textrm{ where } s \\in [-1, 1] $"
   ]
  },
  {
   "cell_type": "markdown",
   "metadata": {
    "id": "sFfCOLUsSSuS"
   },
   "source": [
    "### Question 2.2: Words with Multiple Meanings (1.5 points) [code + written] \n",
    "Polysemes and homonyms are words that have more than one meaning (see this [wiki page](https://en.wikipedia.org/wiki/Polysemy) to learn more about the difference between polysemes and homonyms ). Find a word with *at least two different meanings* such that the top-10 most similar words (according to cosine similarity) contain related words from *both* meanings. For example, \"leaves\" has both \"go_away\" and \"a_structure_of_a_plant\" meaning in the top 10, and \"scoop\" has both \"handed_waffle_cone\" and \"lowdown\". You will probably need to try several polysemous or homonymic words before you find one. \n",
    "\n",
    "Please state the word you discover and the multiple meanings that occur in the top 10. Why do you think many of the polysemous or homonymic words you tried didn't work (i.e. the top-10 most similar words only contain **one** of the meanings of the words)?\n",
    "\n",
    "**Note**: You should use the `wv_from_bin.most_similar(word)` function to get the top 10 most similar words. This function ranks all other words in the vocabulary with respect to their cosine similarity to the given word. For further assistance, please check the __[GenSim documentation](https://radimrehurek.com/gensim/models/keyedvectors.html#gensim.models.keyedvectors.FastTextKeyedVectors.most_similar)__."
   ]
  },
  {
   "cell_type": "code",
   "execution_count": null,
   "metadata": {
    "colab": {
     "base_uri": "https://localhost:8080/"
    },
    "id": "ZAr09U-xSSuT",
    "outputId": "da8adff7-c61e-43a0-8f4b-66084b4a66b8"
   },
   "outputs": [
    {
     "name": "stdout",
     "output_type": "stream",
     "text": [
      "Testing multiple words for different meanings...\n",
      "\n",
      "Testing word: bank\n",
      "--------------------------------------------------\n",
      "Top 10 most similar words to 'bank':\n",
      "banks: 0.7626\n",
      "banking: 0.6819\n",
      "central: 0.6284\n",
      "financial: 0.6167\n",
      "credit: 0.6050\n",
      "lending: 0.5981\n",
      "monetary: 0.5963\n",
      "bankers: 0.5913\n",
      "loans: 0.5803\n",
      "investment: 0.5740\n",
      "\n",
      "Testing word: spring\n",
      "--------------------------------------------------\n",
      "Top 10 most similar words to 'spring':\n",
      "summer: 0.8025\n",
      "autumn: 0.7511\n",
      "winter: 0.7316\n",
      "fall: 0.6583\n",
      "beginning: 0.6508\n",
      "starting: 0.6282\n",
      "year: 0.6142\n",
      "start: 0.5800\n",
      "next: 0.5771\n",
      "during: 0.5727\n",
      "\n",
      "Testing word: rock\n",
      "--------------------------------------------------\n",
      "Top 10 most similar words to 'rock':\n",
      "band: 0.6948\n",
      "pop: 0.6741\n",
      "punk: 0.6611\n",
      "bands: 0.6459\n",
      "'n': 0.6245\n",
      "rocks: 0.6163\n",
      "album: 0.6133\n",
      "albums: 0.6001\n",
      "music: 0.5991\n",
      "rap: 0.5837\n",
      "\n",
      "Testing word: light\n",
      "--------------------------------------------------\n",
      "Top 10 most similar words to 'light':\n",
      "bright: 0.6243\n",
      "dark: 0.6141\n",
      "lights: 0.6014\n",
      "lighter: 0.5582\n",
      "heavy: 0.5408\n",
      "sunlight: 0.5363\n",
      "blue: 0.5349\n",
      "colored: 0.5282\n",
      "sky: 0.5239\n",
      "color: 0.5139\n",
      "\n",
      "Testing word: charge\n",
      "--------------------------------------------------\n",
      "Top 10 most similar words to 'charge':\n",
      "charges: 0.8177\n",
      "charged: 0.8067\n",
      "charging: 0.6607\n",
      "guilty: 0.6375\n",
      "accused: 0.6240\n",
      "for: 0.6173\n",
      "responsible: 0.6007\n",
      "month: 0.5919\n",
      "while: 0.5750\n",
      "counts: 0.5714\n",
      "\n",
      "Testing word: run\n",
      "--------------------------------------------------\n",
      "Top 10 most similar words to 'run':\n",
      "running: 0.7378\n",
      "runs: 0.7364\n",
      "ran: 0.6960\n",
      "went: 0.6395\n",
      "start: 0.6372\n",
      "allowed: 0.6334\n",
      "out: 0.6328\n",
      "go: 0.6266\n",
      "going: 0.6221\n",
      "first: 0.6087\n",
      "\n",
      "Done testing words.\n"
     ]
    }
   ],
   "source": [
    "# 测试一些常见的多义词\n",
    "polysemous_words = ['bank', 'spring', 'rock', 'light', 'charge', 'run']\n",
    "\n",
    "print(\"Testing multiple words for different meanings...\")\n",
    "for word in polysemous_words:\n",
    "    print(f\"\\nTesting word: {word}\")\n",
    "    print(\"-\" * 50)\n",
    "    try:\n",
    "        # 获取最相似的10个词及其相似度分数\n",
    "        similar_words = wv_from_bin.most_similar(word, topn=10)\n",
    "        \n",
    "        # 打印结果\n",
    "        print(f\"Top 10 most similar words to '{word}':\")\n",
    "        for similar_word, score in similar_words:\n",
    "            print(f\"{similar_word}: {score:.4f}\")\n",
    "            \n",
    "    except KeyError:\n",
    "        print(f\"Word '{word}' not found in vocabulary\")\n",
    "        \n",
    "print(\"\\nDone testing words.\")\n",
    "# 使用 wv_from_bin.most_similar(word) 函数来获取最相似的前 10 个单词"
   ]
  },
  {
   "cell_type": "markdown",
   "metadata": {
    "id": "VdQ018tjSSuT"
   },
   "source": [
    "#### <font color=\"red\">我们查询 GloVe 词向量中一些具有多重含义的词，比如 “bank”、“cell”、“apple”，\n",
    "发现它们最相似的词列表往往包含不同语义方向的邻居。\n",
    "\n",
    "例如：\n",
    "\n",
    "“bank” 的邻居包括 “loan、finance、money”（金融意义）\n",
    "以及 “river、shore、stream”（地理意义）；\n",
    "\n",
    "“cell” 既有 “battery”（电池）也有 “organism”（生物学细胞）相关的词。\n",
    "\n",
    "这说明 GloVe 只有一个静态向量表示每个词，\n",
    "无法区分不同上下文中的含义，\n",
    "导致多义词的语义被平均混合。</font>"
   ]
  },
  {
   "cell_type": "markdown",
   "metadata": {
    "id": "VfeW-eK9SSuU"
   },
   "source": [
    "### Question 2.3: Synonyms & Antonyms (2 points) [code + written] \n",
    "\n",
    "When considering Cosine Similarity, it's often more convenient to think of Cosine Distance, which is simply 1 - Cosine Similarity.\n",
    "\n",
    "Find three words $(w_1,w_2,w_3)$ where $w_1$ and $w_2$ are synonyms and $w_1$ and $w_3$ are antonyms, but Cosine Distance $(w_1,w_3) <$ Cosine Distance $(w_1,w_2)$. \n",
    "\n",
    "As an example, $w_1$=\"happy\" is closer to $w_3$=\"sad\" than to $w_2$=\"cheerful\". Please find a different example that satisfies the above. Once you have found your example, please give a possible explanation for why this counter-intuitive result may have happened.\n",
    "\n",
    "You should use the the `wv_from_bin.distance(w1, w2)` function here in order to compute the cosine distance between two words. Please see the __[GenSim documentation](https://radimrehurek.com/gensim/models/keyedvectors.html#gensim.models.keyedvectors.FastTextKeyedVectors.distance)__ for further assistance."
   ]
  },
  {
   "cell_type": "code",
   "execution_count": 41,
   "metadata": {
    "colab": {
     "base_uri": "https://localhost:8080/"
    },
    "id": "bwlpPjpHSSuV",
    "outputId": "8c983677-b3d1-4423-d31c-da566cb522a5"
   },
   "outputs": [
    {
     "name": "stdout",
     "output_type": "stream",
     "text": [
      "Testing synonym-antonym pairs...\n",
      "\n",
      "Testing words: rich, wealthy(synonym), poor(antonym)\n",
      "Cosine distance between rich and wealthy (synonyms): 0.3827\n",
      "Cosine distance between rich and poor (antonyms): 0.5232\n",
      "\n",
      "Testing words: big, large(synonym), small(antonym)\n",
      "Cosine distance between big and large (synonyms): 0.3340\n",
      "Cosine distance between big and small (antonyms): 0.3511\n",
      "\n",
      "Testing words: hot, warm(synonym), cold(antonym)\n",
      "Cosine distance between hot and warm (synonyms): 0.4112\n",
      "Cosine distance between hot and cold (antonyms): 0.4062\n",
      "✅ Found counter-intuitive case! hot is closer to its antonym cold than to its synonym warm\n"
     ]
    }
   ],
   "source": [
    "def test_synonym_antonym_pairs():\n",
    "    # 定义一些可能的同义词和反义词组\n",
    "    word_pairs = [\n",
    "        ('rich', 'wealthy', 'poor'),  # 富有-富裕-贫穷\n",
    "        ('big', 'large', 'small'),    # 大的-巨大的-小的\n",
    "        ('hot', 'warm', 'cold'),      # 热的-温暖的-冷的\n",
    "        ('fast', 'quick', 'slow'),    # 快的-迅速的-慢的\n",
    "        ('smart', 'clever', 'stupid'), # 聪明的-机智的-愚蠢的\n",
    "    ]\n",
    "    \n",
    "    print(\"Testing synonym-antonym pairs...\")\n",
    "    for w1, w2, w3 in word_pairs:\n",
    "        try:\n",
    "            # 计算余弦距离\n",
    "            d_synonym = wv_from_bin.distance(w1, w2)  # 同义词距离\n",
    "            d_antonym = wv_from_bin.distance(w1, w3)  # 反义词距离\n",
    "            \n",
    "            print(f\"\\nTesting words: {w1}, {w2}(synonym), {w3}(antonym)\")\n",
    "            print(f\"Cosine distance between {w1} and {w2} (synonyms): {d_synonym:.4f}\")\n",
    "            print(f\"Cosine distance between {w1} and {w3} (antonyms): {d_antonym:.4f}\")\n",
    "            \n",
    "            # 检查是否满足条件: 反义词距离 < 同义词距离\n",
    "            if d_antonym < d_synonym:\n",
    "                print(f\"✅ Found counter-intuitive case! {w1} is closer to its antonym {w3} than to its synonym {w2}\")\n",
    "                return w1, w2, w3\n",
    "                \n",
    "        except KeyError as e:\n",
    "            print(f\"⚠️ Word not found in vocabulary: {e}\")\n",
    "            continue\n",
    "            \n",
    "    print(\"\\nNo suitable pairs found in the test set.\")\n",
    "    return None, None, None\n",
    "\n",
    "# 运行测试\n",
    "w1, w2, w3 = test_synonym_antonym_pairs()\n",
    "# 使用 wv_from_bin.distance(w1, w2) 函数来计算两个单词之间的余弦距离。"
   ]
  },
  {
   "cell_type": "markdown",
   "metadata": {
    "id": "PeIHjTFMSSuV"
   },
   "source": [
    "#### <font color=\"red\">Write your answer here.</font>"
   ]
  },
  {
   "cell_type": "markdown",
   "metadata": {
    "id": "ZxIDq26zSSuW"
   },
   "source": [
    "### Question 2.4: Analogies with Word Vectors [written] (1.5 points)\n",
    "Word vectors have been shown to *sometimes* exhibit the ability to solve analogies. \n",
    "\n",
    "As an example, for the analogy \"man : grandfather :: woman : x\" (read: man is to grandfather as woman is to x), what is x?\n",
    "\n",
    "In the cell below, we show you how to use word vectors to find x using the `most_similar` function from the __[GenSim documentation](https://radimrehurek.com/gensim/models/keyedvectors.html#gensim.models.keyedvectors.KeyedVectors.most_similar)__. The function finds words that are most similar to the words in the `positive` list and most dissimilar from the words in the `negative` list (while omitting the input words, which are often the most similar; see [this paper](https://www.aclweb.org/anthology/N18-2039.pdf)). The answer to the analogy will have the highest cosine similarity (largest returned numerical value)."
   ]
  },
  {
   "cell_type": "code",
   "execution_count": 42,
   "metadata": {
    "colab": {
     "base_uri": "https://localhost:8080/"
    },
    "id": "u0pC7H4VSSuY",
    "outputId": "a2e3a0c1-2621-4def-f00b-f3de583f86bf"
   },
   "outputs": [
    {
     "name": "stdout",
     "output_type": "stream",
     "text": [
      "[('grandmother', 0.7608445286750793),\n",
      " ('granddaughter', 0.7200808525085449),\n",
      " ('daughter', 0.7168302536010742),\n",
      " ('mother', 0.7151536345481873),\n",
      " ('niece', 0.7005682587623596),\n",
      " ('father', 0.6659887433052063),\n",
      " ('aunt', 0.6623408794403076),\n",
      " ('grandson', 0.6618767976760864),\n",
      " ('grandparents', 0.6446609497070312),\n",
      " ('wife', 0.644535481929779)]\n"
     ]
    }
   ],
   "source": [
    "# Run this cell to answer the analogy -- man : grandfather :: woman : x\n",
    "pprint.pprint(wv_from_bin.most_similar(positive=['woman', 'grandfather'], negative=['man']))"
   ]
  },
  {
   "cell_type": "code",
   "execution_count": 43,
   "metadata": {},
   "outputs": [
    {
     "name": "stdout",
     "output_type": "stream",
     "text": [
      "\n",
      "Testing analogy: man:grandfather :: woman:?\n",
      "Expected: grandmother\n",
      "Predicted: grandmother (score: 0.7608)\n",
      "\n",
      "Top 10 most similar words:\n",
      "grandmother: 0.7608\n",
      "granddaughter: 0.7201\n",
      "daughter: 0.7168\n",
      "mother: 0.7152\n",
      "niece: 0.7006\n",
      "father: 0.6660\n",
      "aunt: 0.6623\n",
      "grandson: 0.6619\n",
      "grandparents: 0.6447\n",
      "wife: 0.6445\n",
      "\n",
      "✅ Analogy test passed!\n"
     ]
    }
   ],
   "source": [
    "# 运行单个类比测试\n",
    "def test_analogy(w1, w2, w3, expected_w4, wv_from_bin):\n",
    "    \"\"\"测试词向量类比关系\n",
    "    例如: w1:w2 :: w3:w4, 其中w4是要预测的词\n",
    "    \"\"\"\n",
    "    try:\n",
    "        # 使用 most_similar 函数计算类比\n",
    "        result = wv_from_bin.most_similar(\n",
    "            positive=[w3, w2],  # 要接近的词\n",
    "            negative=[w1]       # 要远离的词\n",
    "        )\n",
    "        \n",
    "        # 获取预测结果的第一个词及其相似度分数\n",
    "        predicted_w4, score = result[0]\n",
    "        \n",
    "        print(f\"\\nTesting analogy: {w1}:{w2} :: {w3}:?\")\n",
    "        print(f\"Expected: {expected_w4}\")\n",
    "        print(f\"Predicted: {predicted_w4} (score: {score:.4f})\")\n",
    "        \n",
    "        # 打印所有最相似的词，以便分析\n",
    "        print(\"\\nTop 10 most similar words:\")\n",
    "        for word, sim in result[:10]:\n",
    "            print(f\"{word}: {sim:.4f}\")\n",
    "            \n",
    "        return predicted_w4 == expected_w4\n",
    "        \n",
    "    except KeyError as e:\n",
    "        print(f\"⚠️ Error: Word not found in vocabulary - {e}\")\n",
    "        return False\n",
    "\n",
    "# 测试案例\n",
    "w1, w2, w3, expected_w4 = \"man\", \"grandfather\", \"woman\", \"grandmother\"\n",
    "success = test_analogy(w1, w2, w3, expected_w4, wv_from_bin)\n",
    "\n",
    "if success:\n",
    "    print(\"\\n✅ Analogy test passed!\")\n",
    "else:\n",
    "    print(\"\\n❌ Analogy test failed!\")"
   ]
  },
  {
   "cell_type": "markdown",
   "metadata": {
    "id": "XVv8I9WwSSuZ"
   },
   "source": [
    "Let $m$, $g$, $w$, and $x$ denote the word vectors for `man`, `grandfather`, `woman`, and the answer, respectively. Using **only** vectors $m$, $g$, $w$, and the vector arithmetic operators $+$ and $-$ in your answer, what is the expression in which we are maximizing cosine similarity with $x$?\n",
    "\n",
    "Hint: Recall that word vectors are simply multi-dimensional vectors that represent a word. It might help to draw out a 2D example using arbitrary locations of each vector. Where would `man` and `woman` lie in the coordinate plane relative to `grandfather` and the answer?"
   ]
  },
  {
   "cell_type": "markdown",
   "metadata": {
    "id": "KlUKBqtHSSuZ"
   },
   "source": [
    "#### <font color=\"red\">x = g - m + w</font>"
   ]
  },
  {
   "cell_type": "markdown",
   "metadata": {
    "id": "2rRgMca9SSua"
   },
   "source": [
    "### Question 2.5: Finding Analogies [code + written]  (1.5 points)\n",
    "a. For the previous example, it's clear that \"grandmother\" completes the analogy. But give an intuitive explanation as to why the `most_similar` function gives us words like \"granddaughter\", \"daughter\", or \"mother?"
   ]
  },
  {
   "cell_type": "markdown",
   "metadata": {
    "id": "WgYQXazQSSua"
   },
   "source": [
    "#### <font color=\"red\">这是因为词向量捕获了多个维度的语义关系:\n",
    "\n",
    "性别维度: grandfather - man + woman 确实得到了女性相关的词\n",
    "家庭关系维度: 这些词都与家庭成员相关,特别是:\n",
    "跨代关系 (grandmother, granddaughter)\n",
    "长辈关系 (mother)\n",
    "晚辈关系 (daughter)\n",
    "这些词出现是因为它们同时满足:\n",
    "\n",
    "都是女性词汇(来自 woman)\n",
    "都是家庭关系词汇(来自 grandfather)\n",
    "都处于相似的语义空间\n",
    "</font>"
   ]
  },
  {
   "cell_type": "markdown",
   "metadata": {
    "id": "p9aAUXEISSub"
   },
   "source": [
    "b. Find an example of analogy that holds according to these vectors (i.e. the intended word is ranked top). In your solution please state the full analogy in the form x:y :: a:b. If you believe the analogy is complicated, explain why the analogy holds in one or two sentences.\n",
    "\n",
    "**Note**: You may have to try many analogies to find one that works!"
   ]
  },
  {
   "cell_type": "code",
   "execution_count": 44,
   "metadata": {
    "id": "CRvYK2xifpq7"
   },
   "outputs": [
    {
     "name": "stdout",
     "output_type": "stream",
     "text": [
      "\n",
      "测试类比: king:queen :: prince:?\n",
      "预期答案: princess\n",
      "\n",
      "模型返回的top-10结果:\n",
      "princess: 0.7440\n",
      "duchess: 0.5889\n",
      "elizabeth: 0.5443\n",
      "victoria: 0.5282\n",
      "hrh: 0.5128\n",
      "empress: 0.4933\n",
      "royal: 0.4930\n",
      "crown: 0.4878\n",
      "windsor: 0.4859\n",
      "consort: 0.4843\n"
     ]
    }
   ],
   "source": [
    "# 测试\"king:queen :: prince:princess\"的类比关系\n",
    "x, y, a, b = (\"king\", \"queen\", \"prince\", \"princess\")\n",
    "\n",
    "# 验证结果\n",
    "result = wv_from_bin.most_similar(positive=[a, y], negative=[x])\n",
    "print(f\"\\n测试类比: {x}:{y} :: {a}:?\")\n",
    "print(\"预期答案:\", b)\n",
    "print(\"\\n模型返回的top-10结果:\")\n",
    "for word, score in result[:10]:\n",
    "    print(f\"{word}: {score:.4f}\")\n",
    "\n",
    "# 验证\"princess\"是否排在第一位\n",
    "assert wv_from_bin.most_similar(positive=[a, y], negative=[x])[0][0] == b"
   ]
  },
  {
   "cell_type": "markdown",
   "metadata": {
    "id": "K3QlPqAwSSub"
   },
   "source": [
    "#### <font color=\"red\">词向量能够同时捕获多个维度(性别、等级)的语义关系。</font>"
   ]
  },
  {
   "cell_type": "markdown",
   "metadata": {
    "id": "SwgcEywwSSuc"
   },
   "source": [
    "### Question 2.6: Incorrect Analogy [code + written] (1.5 points)\n",
    "a. Below, we expect to see the intended analogy \"hand : glove :: foot : **sock**\", but we see an unexpected result instead. Give a potential reason as to why this particular analogy turned out the way it did?"
   ]
  },
  {
   "cell_type": "code",
   "execution_count": 45,
   "metadata": {
    "colab": {
     "base_uri": "https://localhost:8080/"
    },
    "id": "m-ykWoJoSSuc",
    "outputId": "60fa3812-3e62-429e-c309-349463c75f9e"
   },
   "outputs": [
    {
     "name": "stdout",
     "output_type": "stream",
     "text": [
      "[('45,000-square', 0.4922032058238983),\n",
      " ('15,000-square', 0.4649604558944702),\n",
      " ('10,000-square', 0.45447564125061035),\n",
      " ('6,000-square', 0.44975775480270386),\n",
      " ('3,500-square', 0.4441334009170532),\n",
      " ('700-square', 0.44257497787475586),\n",
      " ('50,000-square', 0.43563973903656006),\n",
      " ('3,000-square', 0.43486514687538147),\n",
      " ('30,000-square', 0.4330596625804901),\n",
      " ('footed', 0.43236875534057617)]\n"
     ]
    }
   ],
   "source": [
    "pprint.pprint(wv_from_bin.most_similar(positive=['foot', 'glove'], negative=['hand']))"
   ]
  },
  {
   "cell_type": "markdown",
   "metadata": {
    "id": "zn4ruS8MSSud"
   },
   "source": [
    "#### <font color=\"red\">\n",
    "1. 语料库中的共现模式差异\n",
    "2. 语义歧义\n",
    "3. 使用频率的不平衡</font>"
   ]
  },
  {
   "cell_type": "markdown",
   "metadata": {
    "id": "D1gHyZt0SSud"
   },
   "source": [
    "b. Find another example of analogy that does *not* hold according to these vectors. In your solution, state the intended analogy in the form x:y :: a:b, and state the **incorrect** value of b according to the word vectors (in the previous example, this would be **'45,000-square'**)."
   ]
  },
  {
   "cell_type": "code",
   "execution_count": 48,
   "metadata": {
    "id": "ms-DTC8_ftiA"
   },
   "outputs": [
    {
     "name": "stdout",
     "output_type": "stream",
     "text": [
      "\n",
      "测试类比: train:conductor :: bus:?\n",
      "预期答案: driver\n",
      "\n",
      "模型返回的top-10结果:\n",
      "philharmonic: 0.5715\n",
      "orchestra: 0.5569\n",
      "conductors: 0.5371\n",
      "violinist: 0.5205\n",
      "concertmaster: 0.5039\n",
      "symphony: 0.5003\n",
      "zubin: 0.4982\n",
      "composer: 0.4812\n",
      "pops: 0.4683\n",
      "soloist: 0.4591\n",
      "\n",
      "❌ 类比失败！预期得到 driver，但模型返回了 philharmonic\n"
     ]
    }
   ],
   "source": [
    "# 测试 \"train : conductor :: bus : driver\" 的类比\n",
    "x, y, a, b = \"train\", \"conductor\", \"bus\", \"driver\"\n",
    "\n",
    "# 验证结果\n",
    "result = wv_from_bin.most_similar(positive=[a, y], negative=[x])\n",
    "print(f\"\\n测试类比: {x}:{y} :: {a}:?\")\n",
    "print(\"预期答案:\", b)\n",
    "print(\"\\n模型返回的top-10结果:\")\n",
    "for word, score in result[:10]:\n",
    "    print(f\"{word}: {score:.4f}\")\n",
    "\n",
    "# 检查结果是否不是预期的driver\n",
    "top_result = result[0][0]\n",
    "if top_result != b:\n",
    "    print(f\"\\n❌ 类比失败！预期得到 {b}，但模型返回了 {top_result}\")\n",
    "else:\n",
    "    print(f\"\\n✅ 类比成功！\")"
   ]
  },
  {
   "cell_type": "markdown",
   "metadata": {
    "id": "c4x0EHjeSSue"
   },
   "source": [
    "#### <font color=\"red\">Write your answer here.</font>"
   ]
  },
  {
   "cell_type": "markdown",
   "metadata": {
    "id": "yvlycXN-SSuf"
   },
   "source": [
    "### Question 2.7: Guided Analysis of Bias in Word Vectors [written] (1 point)\n",
    "\n",
    "It's important to be cognizant of the biases (gender, race, sexual orientation etc.) implicit in our word embeddings. Bias can be dangerous because it can reinforce stereotypes through applications that employ these models.\n",
    "\n",
    "Run the cell below, to examine (a) which terms are most similar to \"man\" and \"profession\" and most dissimilar to \"woman\" and (b) which terms are most similar to \"woman\" and \"profession\" and most dissimilar to \"man\". Point out the difference between the list of female-associated words and the list of male-associated words, and explain how it is reflecting gender bias."
   ]
  },
  {
   "cell_type": "code",
   "execution_count": 49,
   "metadata": {
    "colab": {
     "base_uri": "https://localhost:8080/"
    },
    "id": "XggWA4MhSSuf",
    "outputId": "534a694b-f4fa-479e-9e7c-12b17db3abb8"
   },
   "outputs": [
    {
     "name": "stdout",
     "output_type": "stream",
     "text": [
      "[('reputation', 0.5250176787376404),\n",
      " ('professions', 0.5178037881851196),\n",
      " ('skill', 0.49046966433525085),\n",
      " ('skills', 0.49005505442619324),\n",
      " ('ethic', 0.4897659420967102),\n",
      " ('business', 0.487585186958313),\n",
      " ('respected', 0.485920250415802),\n",
      " ('practice', 0.4821045696735382),\n",
      " ('regarded', 0.4778572618961334),\n",
      " ('life', 0.4760662019252777)]\n",
      "\n",
      "[('professions', 0.5957458019256592),\n",
      " ('practitioner', 0.4988412857055664),\n",
      " ('teaching', 0.48292139172554016),\n",
      " ('nursing', 0.48211804032325745),\n",
      " ('vocation', 0.4788965880870819),\n",
      " ('teacher', 0.47160351276397705),\n",
      " ('practicing', 0.4693780839443207),\n",
      " ('educator', 0.46524327993392944),\n",
      " ('physicians', 0.4628995656967163),\n",
      " ('professionals', 0.46013936400413513)]\n"
     ]
    }
   ],
   "source": [
    "# Run this cell\n",
    "# Here `positive` indicates the list of words to be similar to and `negative` indicates the list of words to be\n",
    "# most dissimilar from.\n",
    "\n",
    "pprint.pprint(wv_from_bin.most_similar(positive=['man', 'profession'], negative=['woman']))\n",
    "print()\n",
    "pprint.pprint(wv_from_bin.most_similar(positive=['woman', 'profession'], negative=['man']))"
   ]
  },
  {
   "cell_type": "markdown",
   "metadata": {
    "id": "x4g6KbsYSSuh"
   },
   "source": [
    "#### <font color=\"red\">Write your answer here.</font>"
   ]
  },
  {
   "cell_type": "markdown",
   "metadata": {
    "id": "LxJmnS6lSSui"
   },
   "source": [
    "### Question 2.8: Independent Analysis of Bias in Word Vectors [code + written]  (1 point)\n",
    "\n",
    "Use the `most_similar` function to find another pair of analogies that demonstrates some bias is exhibited by the vectors. Please briefly explain the example of bias that you discover."
   ]
  },
  {
   "cell_type": "code",
   "execution_count": 61,
   "metadata": {
    "colab": {
     "base_uri": "https://localhost:8080/"
    },
    "id": "PZoDheIfSSui",
    "outputId": "f45fef83-ee36-4ef1-b970-775c3b40c515"
   },
   "outputs": [
    {
     "name": "stdout",
     "output_type": "stream",
     "text": [
      "测试种族/民族词汇与特征词的关联...\n",
      "\n",
      "\n",
      "种族/民族词的相关词:\n",
      "--------------------------------------------------\n",
      "\n",
      "Asian 最相关的前10个词:\n",
      "  - asia: 0.7846\n",
      "  - pacific: 0.6231\n",
      "  - chinese: 0.5776\n",
      "  - african: 0.5714\n",
      "  - southeast: 0.5648\n",
      "  - markets: 0.5641\n",
      "  - economies: 0.5619\n",
      "  - world: 0.5608\n",
      "  - asean: 0.5589\n",
      "  - countries: 0.5564\n",
      "\n",
      "White 最相关的前10个词:\n",
      "  - black: 0.7930\n",
      "  - red: 0.6617\n",
      "  - brown: 0.6365\n",
      "  - blue: 0.6302\n",
      "  - gray: 0.6124\n",
      "  - pink: 0.5940\n",
      "  - colored: 0.5938\n",
      "  - green: 0.5822\n",
      "  - yellow: 0.5791\n",
      "  - house: 0.5751\n",
      "\n",
      "Black 最相关的前10个词:\n",
      "  - white: 0.7930\n",
      "  - blue: 0.6668\n",
      "  - dark: 0.6539\n",
      "  - red: 0.6528\n",
      "  - brown: 0.6272\n",
      "  - yellow: 0.6240\n",
      "  - colored: 0.6210\n",
      "  - green: 0.6117\n",
      "  - gray: 0.6028\n",
      "  - wearing: 0.6027\n",
      "\n",
      "Hispanic 最相关的前10个词:\n",
      "  - latino: 0.9162\n",
      "  - hispanics: 0.7829\n",
      "  - latinos: 0.7437\n",
      "  - african-american: 0.6284\n",
      "  - immigrant: 0.5675\n",
      "  - voters: 0.5519\n",
      "  - whites: 0.5295\n",
      "  - minorities: 0.5268\n",
      "  - blacks: 0.5194\n",
      "  - immigrants: 0.5174\n"
     ]
    }
   ],
   "source": [
    "# 测试种族/民族词汇与性格特征词的关联\n",
    "print(\"测试种族/民族词汇与特征词的关联...\")\n",
    "\n",
    "# 定义测试词组\n",
    "ethnic_groups = ['asian', 'white', 'black', 'hispanic']\n",
    "print(\"\\n\\n种族/民族词的相关词:\")\n",
    "print(\"-\" * 50)\n",
    "for group in ethnic_groups:\n",
    "    print(f\"\\n{group.capitalize()} 最相关的前10个词:\")\n",
    "    try:\n",
    "        similar_words = wv_from_bin.most_similar(positive=[group], topn=10)\n",
    "        for word, score in similar_words:\n",
    "            print(f\"  - {word}: {score:.4f}\")\n",
    "    except KeyError:\n",
    "        print(f\"⚠️ '{group}' 不在词表中\")\n"
   ]
  },
  {
   "cell_type": "markdown",
   "metadata": {
    "id": "TGOlmtJoSSuj"
   },
   "source": [
    "#### <font color=\"red\">Write your answer here.</font>"
   ]
  },
  {
   "cell_type": "markdown",
   "metadata": {
    "id": "eK2XVWzmSSuk"
   },
   "source": [
    "### Question 2.9: Thinking About Bias [written] (2 points)\n",
    "\n",
    "a. Give one possible explanation of how bias gets into the word vectors. Your explanation should be focused on word vectors, as opposed to bias in other AI systems (e.g., ChatGPT). You can use specific historical examples to back up your explanations if necessary."
   ]
  },
  {
   "cell_type": "markdown",
   "metadata": {
    "id": "19pM85fCSSuk"
   },
   "source": [
    "#### <font color=\"red\">词向量通过学习大规模语料的共现规律获得语义表示。\n",
    "但语言数据本身反映了社会中已有的偏见（如性别、种族、职业等），\n",
    "因此这些偏见被模型捕捉并编码到词向量空间中。\n",
    "例如，在训练语料中，“男性”更常与“程序员”共现，而“女性”常与“护士”共现，\n",
    "导致模型中“男性”与“程序员”的向量距离更近，这是一种性别偏见的体现。</font>"
   ]
  },
  {
   "cell_type": "markdown",
   "metadata": {
    "id": "ILYqJZ7ASSul"
   },
   "source": [
    "b. What is one possible method you can use to mitigate bias exhibited by word vectors? Briefly explain the method and what the goal of the method was."
   ]
  },
  {
   "cell_type": "markdown",
   "metadata": {
    "id": "dnJaAB7mSSul"
   },
   "source": [
    "\n",
    "#### <font color=\"red\">一种常见方法是 去偏处理（Debiasing）。\n",
    "研究者首先通过 “he–she” 等向量差确定性别方向，\n",
    "然后对中性词（如“doctor”、“teacher”）沿该方向做投影消除，\n",
    "使这些词不再带有性别倾向。\n",
    "去偏后，“doctor” 不再更接近 “man”，从而减少性别偏见。</font>"
   ]
  },
  {
   "cell_type": "markdown",
   "metadata": {
    "id": "dzh3eEmZSSum"
   },
   "source": [
    "# <font color=\"blue\"> Submission Instructions</font>\n",
    "\n",
    "1. Click the Save button at the top of the Jupyter Notebook.\n",
    "2. Select Edit -> Clear Outputs of All Cells. This will clear all the outputs from all cells (but will keep the content of all cells). \n",
    "2. Select Run -> Run All Cells. This will run all the cells in order, and will take several minutes.\n",
    "3. Once you've rerun everything, select File -> Save and Export Notebook as -> PDF (If you see errors like <font color=\"red\">\"nbconvert failed: Pandoc wasn't found\"</font>, you can first save it as HTML). Select File -> Save and Export Notebook as -> HTML. This will save the notebook as an HTML file on your computer. Open the downloaded HTML file in your web browser. In the browser, press Ctrl + P (Windows/Linux) or Cmd + P (Mac) to open the print dialog. In the print dialog, change the destination to Save as PDF and click Save. <font color='blue'> Make sure all your solutions especially the coding parts are displayed in the pdf</font>, it's okay if the provided codes get cut off because lines are not wrapped in code cells.\n",
    "4. Look at the PDF file and make sure all your solutions are there, displayed correctly. The PDF is the only thing your graders will see!\n",
    "5. Submit your PDF on Gradescope."
   ]
  }
 ],
 "metadata": {
  "anaconda-cloud": {},
  "colab": {
   "provenance": []
  },
  "kernelspec": {
   "display_name": "cs224n",
   "language": "python",
   "name": "python3"
  },
  "language_info": {
   "codemirror_mode": {
    "name": "ipython",
    "version": 3
   },
   "file_extension": ".py",
   "mimetype": "text/x-python",
   "name": "python",
   "nbconvert_exporter": "python",
   "pygments_lexer": "ipython3",
   "version": "3.10.18"
  }
 },
 "nbformat": 4,
 "nbformat_minor": 4
}
